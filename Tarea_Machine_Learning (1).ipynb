{
  "cells": [
    {
      "cell_type": "markdown",
      "metadata": {
        "id": "hgdGq0xvw-MI"
      },
      "source": [
        "# **Tarea**\n",
        "\n",
        "Nombre: Javiera Contador \n"
      ],
      "id": "hgdGq0xvw-MI"
    },
    {
      "cell_type": "code",
      "execution_count": null,
      "metadata": {
        "id": "219fc4e9"
      },
      "outputs": [],
      "source": [
        "#Librerías\n",
        "import pandas as pd\n",
        "import numpy as np\n",
        "import matplotlib.pyplot as plt\n",
        "\n",
        "from sklearn.linear_model import LogisticRegression\n",
        "from sklearn.model_selection import train_test_split\n",
        "#from sklearn.metrics import mean_squared_error\n",
        "import sklearn.metrics as sk_metrics \n",
        "# log_loss, roc_auc_score, recall_score, precision_score, \n",
        "# average_precision_score, f1_score, classification_report, \n",
        "# accuracy_score, roc_curve, precision_recall_curve, confusion_matrix\n",
        "from scipy.special import expit\n",
        "from sklearn import svm\n",
        "from sklearn.datasets import make_blobs\n",
        "from sklearn.inspection import DecisionBoundaryDisplay\n",
        "from sklearn.preprocessing import StandardScaler\n",
        "import seaborn as sns \n",
        "from sklearn.discriminant_analysis import QuadraticDiscriminantAnalysis\n",
        "from sklearn.metrics import accuracy_score\n",
        "from sklearn.metrics import confusion_matrix\n",
        "from sklearn.metrics import classification_report\n",
        "from sklearn.metrics import roc_curve\n",
        "%matplotlib inline"
      ],
      "id": "219fc4e9"
    },
    {
      "cell_type": "code",
      "execution_count": null,
      "metadata": {
        "id": "ef42d518"
      },
      "outputs": [],
      "source": [
        "#Importar datos\n",
        "df = pd.read_csv(\"/content/data.csv\")"
      ],
      "id": "ef42d518"
    },
    {
      "cell_type": "code",
      "execution_count": null,
      "metadata": {
        "colab": {
          "base_uri": "https://localhost:8080/",
          "height": 206
        },
        "id": "c257b068",
        "outputId": "f013678e-e913-4e03-e022-5fbbe2a6eab6"
      },
      "outputs": [
        {
          "output_type": "execute_result",
          "data": {
            "text/plain": [
              "   age  sex  cp trestbps chol fbs restecg thalach exang  oldpeak slope ca  \\\n",
              "0   28    1   2      130  132   0       2     185     0      0.0     ?  ?   \n",
              "1   29    1   2      120  243   0       0     160     0      0.0     ?  ?   \n",
              "2   29    1   2      140    ?   0       0     170     0      0.0     ?  ?   \n",
              "3   30    0   1      170  237   0       1     170     0      0.0     ?  ?   \n",
              "4   31    0   2      100  219   0       1     150     0      0.0     ?  ?   \n",
              "\n",
              "  thal  num         \n",
              "0    ?           0  \n",
              "1    ?           0  \n",
              "2    ?           0  \n",
              "3    6           0  \n",
              "4    ?           0  "
            ],
            "text/html": [
              "\n",
              "  <div id=\"df-96a42f9a-d547-4e52-83db-17670940d48c\">\n",
              "    <div class=\"colab-df-container\">\n",
              "      <div>\n",
              "<style scoped>\n",
              "    .dataframe tbody tr th:only-of-type {\n",
              "        vertical-align: middle;\n",
              "    }\n",
              "\n",
              "    .dataframe tbody tr th {\n",
              "        vertical-align: top;\n",
              "    }\n",
              "\n",
              "    .dataframe thead th {\n",
              "        text-align: right;\n",
              "    }\n",
              "</style>\n",
              "<table border=\"1\" class=\"dataframe\">\n",
              "  <thead>\n",
              "    <tr style=\"text-align: right;\">\n",
              "      <th></th>\n",
              "      <th>age</th>\n",
              "      <th>sex</th>\n",
              "      <th>cp</th>\n",
              "      <th>trestbps</th>\n",
              "      <th>chol</th>\n",
              "      <th>fbs</th>\n",
              "      <th>restecg</th>\n",
              "      <th>thalach</th>\n",
              "      <th>exang</th>\n",
              "      <th>oldpeak</th>\n",
              "      <th>slope</th>\n",
              "      <th>ca</th>\n",
              "      <th>thal</th>\n",
              "      <th>num</th>\n",
              "    </tr>\n",
              "  </thead>\n",
              "  <tbody>\n",
              "    <tr>\n",
              "      <th>0</th>\n",
              "      <td>28</td>\n",
              "      <td>1</td>\n",
              "      <td>2</td>\n",
              "      <td>130</td>\n",
              "      <td>132</td>\n",
              "      <td>0</td>\n",
              "      <td>2</td>\n",
              "      <td>185</td>\n",
              "      <td>0</td>\n",
              "      <td>0.0</td>\n",
              "      <td>?</td>\n",
              "      <td>?</td>\n",
              "      <td>?</td>\n",
              "      <td>0</td>\n",
              "    </tr>\n",
              "    <tr>\n",
              "      <th>1</th>\n",
              "      <td>29</td>\n",
              "      <td>1</td>\n",
              "      <td>2</td>\n",
              "      <td>120</td>\n",
              "      <td>243</td>\n",
              "      <td>0</td>\n",
              "      <td>0</td>\n",
              "      <td>160</td>\n",
              "      <td>0</td>\n",
              "      <td>0.0</td>\n",
              "      <td>?</td>\n",
              "      <td>?</td>\n",
              "      <td>?</td>\n",
              "      <td>0</td>\n",
              "    </tr>\n",
              "    <tr>\n",
              "      <th>2</th>\n",
              "      <td>29</td>\n",
              "      <td>1</td>\n",
              "      <td>2</td>\n",
              "      <td>140</td>\n",
              "      <td>?</td>\n",
              "      <td>0</td>\n",
              "      <td>0</td>\n",
              "      <td>170</td>\n",
              "      <td>0</td>\n",
              "      <td>0.0</td>\n",
              "      <td>?</td>\n",
              "      <td>?</td>\n",
              "      <td>?</td>\n",
              "      <td>0</td>\n",
              "    </tr>\n",
              "    <tr>\n",
              "      <th>3</th>\n",
              "      <td>30</td>\n",
              "      <td>0</td>\n",
              "      <td>1</td>\n",
              "      <td>170</td>\n",
              "      <td>237</td>\n",
              "      <td>0</td>\n",
              "      <td>1</td>\n",
              "      <td>170</td>\n",
              "      <td>0</td>\n",
              "      <td>0.0</td>\n",
              "      <td>?</td>\n",
              "      <td>?</td>\n",
              "      <td>6</td>\n",
              "      <td>0</td>\n",
              "    </tr>\n",
              "    <tr>\n",
              "      <th>4</th>\n",
              "      <td>31</td>\n",
              "      <td>0</td>\n",
              "      <td>2</td>\n",
              "      <td>100</td>\n",
              "      <td>219</td>\n",
              "      <td>0</td>\n",
              "      <td>1</td>\n",
              "      <td>150</td>\n",
              "      <td>0</td>\n",
              "      <td>0.0</td>\n",
              "      <td>?</td>\n",
              "      <td>?</td>\n",
              "      <td>?</td>\n",
              "      <td>0</td>\n",
              "    </tr>\n",
              "  </tbody>\n",
              "</table>\n",
              "</div>\n",
              "      <button class=\"colab-df-convert\" onclick=\"convertToInteractive('df-96a42f9a-d547-4e52-83db-17670940d48c')\"\n",
              "              title=\"Convert this dataframe to an interactive table.\"\n",
              "              style=\"display:none;\">\n",
              "        \n",
              "  <svg xmlns=\"http://www.w3.org/2000/svg\" height=\"24px\"viewBox=\"0 0 24 24\"\n",
              "       width=\"24px\">\n",
              "    <path d=\"M0 0h24v24H0V0z\" fill=\"none\"/>\n",
              "    <path d=\"M18.56 5.44l.94 2.06.94-2.06 2.06-.94-2.06-.94-.94-2.06-.94 2.06-2.06.94zm-11 1L8.5 8.5l.94-2.06 2.06-.94-2.06-.94L8.5 2.5l-.94 2.06-2.06.94zm10 10l.94 2.06.94-2.06 2.06-.94-2.06-.94-.94-2.06-.94 2.06-2.06.94z\"/><path d=\"M17.41 7.96l-1.37-1.37c-.4-.4-.92-.59-1.43-.59-.52 0-1.04.2-1.43.59L10.3 9.45l-7.72 7.72c-.78.78-.78 2.05 0 2.83L4 21.41c.39.39.9.59 1.41.59.51 0 1.02-.2 1.41-.59l7.78-7.78 2.81-2.81c.8-.78.8-2.07 0-2.86zM5.41 20L4 18.59l7.72-7.72 1.47 1.35L5.41 20z\"/>\n",
              "  </svg>\n",
              "      </button>\n",
              "      \n",
              "  <style>\n",
              "    .colab-df-container {\n",
              "      display:flex;\n",
              "      flex-wrap:wrap;\n",
              "      gap: 12px;\n",
              "    }\n",
              "\n",
              "    .colab-df-convert {\n",
              "      background-color: #E8F0FE;\n",
              "      border: none;\n",
              "      border-radius: 50%;\n",
              "      cursor: pointer;\n",
              "      display: none;\n",
              "      fill: #1967D2;\n",
              "      height: 32px;\n",
              "      padding: 0 0 0 0;\n",
              "      width: 32px;\n",
              "    }\n",
              "\n",
              "    .colab-df-convert:hover {\n",
              "      background-color: #E2EBFA;\n",
              "      box-shadow: 0px 1px 2px rgba(60, 64, 67, 0.3), 0px 1px 3px 1px rgba(60, 64, 67, 0.15);\n",
              "      fill: #174EA6;\n",
              "    }\n",
              "\n",
              "    [theme=dark] .colab-df-convert {\n",
              "      background-color: #3B4455;\n",
              "      fill: #D2E3FC;\n",
              "    }\n",
              "\n",
              "    [theme=dark] .colab-df-convert:hover {\n",
              "      background-color: #434B5C;\n",
              "      box-shadow: 0px 1px 3px 1px rgba(0, 0, 0, 0.15);\n",
              "      filter: drop-shadow(0px 1px 2px rgba(0, 0, 0, 0.3));\n",
              "      fill: #FFFFFF;\n",
              "    }\n",
              "  </style>\n",
              "\n",
              "      <script>\n",
              "        const buttonEl =\n",
              "          document.querySelector('#df-96a42f9a-d547-4e52-83db-17670940d48c button.colab-df-convert');\n",
              "        buttonEl.style.display =\n",
              "          google.colab.kernel.accessAllowed ? 'block' : 'none';\n",
              "\n",
              "        async function convertToInteractive(key) {\n",
              "          const element = document.querySelector('#df-96a42f9a-d547-4e52-83db-17670940d48c');\n",
              "          const dataTable =\n",
              "            await google.colab.kernel.invokeFunction('convertToInteractive',\n",
              "                                                     [key], {});\n",
              "          if (!dataTable) return;\n",
              "\n",
              "          const docLinkHtml = 'Like what you see? Visit the ' +\n",
              "            '<a target=\"_blank\" href=https://colab.research.google.com/notebooks/data_table.ipynb>data table notebook</a>'\n",
              "            + ' to learn more about interactive tables.';\n",
              "          element.innerHTML = '';\n",
              "          dataTable['output_type'] = 'display_data';\n",
              "          await google.colab.output.renderOutput(dataTable, element);\n",
              "          const docLink = document.createElement('div');\n",
              "          docLink.innerHTML = docLinkHtml;\n",
              "          element.appendChild(docLink);\n",
              "        }\n",
              "      </script>\n",
              "    </div>\n",
              "  </div>\n",
              "  "
            ]
          },
          "metadata": {},
          "execution_count": 3
        }
      ],
      "source": [
        "#Visualización de las primeras 5 observaciones\n",
        "df.head()"
      ],
      "id": "c257b068"
    },
    {
      "cell_type": "code",
      "execution_count": null,
      "metadata": {
        "colab": {
          "base_uri": "https://localhost:8080/"
        },
        "id": "1de58b83",
        "outputId": "32764079-6dcf-46a7-8fbd-0a8c8123f3e5"
      },
      "outputs": [
        {
          "output_type": "execute_result",
          "data": {
            "text/plain": [
              "(261, 11)"
            ]
          },
          "metadata": {},
          "execution_count": 4
        }
      ],
      "source": [
        "#Limpieza de datos\n",
        "df.rename(columns = {'num       ': 'attack'}, inplace = True)\n",
        "df.replace(\"?\", np.nan, inplace = True)\n",
        "df.drop(columns = ['slope', 'ca', 'thal'], inplace = True)\n",
        "df.dropna(inplace= True)\n",
        "df.shape"
      ],
      "id": "1de58b83"
    },
    {
      "cell_type": "markdown",
      "metadata": {
        "id": "f1b9712e"
      },
      "source": [
        "### Variables que vamos a usar\n",
        "\n",
        "    age: age in years\n",
        "    sex: sex (1 = male; 0 = female)\n",
        "    cp: chest pain type\n",
        "    – 1: typical angina\n",
        "    – 2: atypical angina\n",
        "    – 3: non-anginal pain\n",
        "    – 4: asymptomatic\n",
        "    trestbps: resting blood pressure (in mm Hg on admission to the hospital)\n",
        "    chol: serum cholesterol in mg/dl\n",
        "    fbs: (fasting blood sugar > 120 mg/dl) (1 = true; 0 = false)\n",
        "    restecg: resting electrocardiographic results\n",
        "    – 0: normal\n",
        "    – 1: having ST-T wave abnormality (T wave inversions and/or ST elevation or depression of > 0.05 mV)\n",
        "    – 2: showing probable or definite left ventricular hypertrophy by Estes’ criteria\n",
        "    thalach: maximum heart rate achieved\n",
        "    exang: exercise-induced angina (1 = yes; 0 = no)\n",
        "    oldpeak: ST depression induced by exercise relative to rest"
      ],
      "id": "f1b9712e"
    },
    {
      "cell_type": "markdown",
      "metadata": {
        "id": "134ff41d"
      },
      "source": [
        "## Test - Train split"
      ],
      "id": "134ff41d"
    },
    {
      "cell_type": "code",
      "execution_count": null,
      "metadata": {
        "colab": {
          "base_uri": "https://localhost:8080/"
        },
        "id": "74f8e090",
        "outputId": "fd40cbcc-c3de-4e47-a921-c8eb49bee0ae"
      },
      "outputs": [
        {
          "output_type": "stream",
          "name": "stdout",
          "text": [
            "\n",
            "La dimensión del conjunto de datos para el entrenamiento es:\n",
            " (208, 11)\n",
            "\n",
            "La dimensión del conjunto de datos para el test es:\n",
            " (53, 11)\n",
            "\n",
            "Porcentajes de infartos para el train:\n",
            " 0    0.625\n",
            "1    0.375\n",
            "Name: attack, dtype: float64\n",
            "\n",
            "Porcentajes de infartos para el test:\n",
            " 0    0.622642\n",
            "1    0.377358\n",
            "Name: attack, dtype: float64\n"
          ]
        }
      ],
      "source": [
        "random_seed = 123\n",
        "df_train, df_test = train_test_split(df, test_size=0.2, random_state=random_seed, stratify=df['attack']) \n",
        "#particionamos el conjunto de datos, donde el 20% de las observaciones son para el test y el 80% de las observaciones son para el train, \n",
        "#con una partición estratificada respecto a la variable \"attack\".\n",
        "\n",
        "print(\"\\nLa dimensión del conjunto de datos para el entrenamiento es:\\n\", df_train.shape)\n",
        "print(\"\\nLa dimensión del conjunto de datos para el test es:\\n\", df_test.shape)\n",
        "\n",
        "print(\"\\nPorcentajes de infartos para el train:\\n\", df_train['attack'].value_counts(normalize=True))\n",
        "print(\"\\nPorcentajes de infartos para el test:\\n\", df_test['attack'].value_counts(normalize=True))"
      ],
      "id": "74f8e090"
    },
    {
      "cell_type": "code",
      "execution_count": null,
      "metadata": {
        "colab": {
          "base_uri": "https://localhost:8080/"
        },
        "id": "5c3b8bc0",
        "outputId": "cb1a49d5-8f4b-4391-cca3-3fd9a80e6981"
      },
      "outputs": [
        {
          "output_type": "stream",
          "name": "stdout",
          "text": [
            "Numerical var: ['age', 'trestbps', 'chol', 'thalach', 'oldpeak']\n",
            "\n",
            "Categorical var: ['cp', 'exang', 'fbs', 'restecg', 'sex']\n"
          ]
        }
      ],
      "source": [
        "numeric_cols = ['age', 'trestbps', 'chol', 'thalach', 'oldpeak'] #variables númericas\n",
        "cat_cols = list(set(df.columns) - set(numeric_cols) - {'attack'}) #variables categoricas\n",
        "cat_cols.sort()\n",
        "\n",
        "print(\"Numerical var:\", numeric_cols)\n",
        "print(\"\\nCategorical var:\", cat_cols)\n",
        "\n",
        "scaler = StandardScaler() \n",
        "scaler.fit(df_train[numeric_cols]) \n",
        "\n",
        "def get_features_and_target_arrays(df, numeric_cols, cat_cols, scaler):\n",
        "    X_numeric_scaled = scaler.transform(df[numeric_cols])\n",
        "    X_categorical = df[cat_cols].to_numpy()\n",
        "    X = np.hstack((X_categorical, X_numeric_scaled))\n",
        "    y = df['attack']\n",
        "    return X, y\n",
        "\n",
        "X, y = get_features_and_target_arrays(df_train, numeric_cols, cat_cols, scaler) #obtenemos la matriz de datos para X y el vector Y del entrenamiento"
      ],
      "id": "5c3b8bc0"
    },
    {
      "cell_type": "markdown",
      "metadata": {
        "id": "HtPMG-lu4gwB"
      },
      "source": [
        "### Regresión Logistica"
      ],
      "id": "HtPMG-lu4gwB"
    },
    {
      "cell_type": "code",
      "execution_count": null,
      "metadata": {
        "colab": {
          "base_uri": "https://localhost:8080/"
        },
        "id": "0738624d",
        "outputId": "93d83323-b1ba-4aad-9d25-59a63563cbb5"
      },
      "outputs": [
        {
          "output_type": "execute_result",
          "data": {
            "text/plain": [
              "LogisticRegression()"
            ],
            "text/html": [
              "<style>#sk-container-id-1 {color: black;background-color: white;}#sk-container-id-1 pre{padding: 0;}#sk-container-id-1 div.sk-toggleable {background-color: white;}#sk-container-id-1 label.sk-toggleable__label {cursor: pointer;display: block;width: 100%;margin-bottom: 0;padding: 0.3em;box-sizing: border-box;text-align: center;}#sk-container-id-1 label.sk-toggleable__label-arrow:before {content: \"▸\";float: left;margin-right: 0.25em;color: #696969;}#sk-container-id-1 label.sk-toggleable__label-arrow:hover:before {color: black;}#sk-container-id-1 div.sk-estimator:hover label.sk-toggleable__label-arrow:before {color: black;}#sk-container-id-1 div.sk-toggleable__content {max-height: 0;max-width: 0;overflow: hidden;text-align: left;background-color: #f0f8ff;}#sk-container-id-1 div.sk-toggleable__content pre {margin: 0.2em;color: black;border-radius: 0.25em;background-color: #f0f8ff;}#sk-container-id-1 input.sk-toggleable__control:checked~div.sk-toggleable__content {max-height: 200px;max-width: 100%;overflow: auto;}#sk-container-id-1 input.sk-toggleable__control:checked~label.sk-toggleable__label-arrow:before {content: \"▾\";}#sk-container-id-1 div.sk-estimator input.sk-toggleable__control:checked~label.sk-toggleable__label {background-color: #d4ebff;}#sk-container-id-1 div.sk-label input.sk-toggleable__control:checked~label.sk-toggleable__label {background-color: #d4ebff;}#sk-container-id-1 input.sk-hidden--visually {border: 0;clip: rect(1px 1px 1px 1px);clip: rect(1px, 1px, 1px, 1px);height: 1px;margin: -1px;overflow: hidden;padding: 0;position: absolute;width: 1px;}#sk-container-id-1 div.sk-estimator {font-family: monospace;background-color: #f0f8ff;border: 1px dotted black;border-radius: 0.25em;box-sizing: border-box;margin-bottom: 0.5em;}#sk-container-id-1 div.sk-estimator:hover {background-color: #d4ebff;}#sk-container-id-1 div.sk-parallel-item::after {content: \"\";width: 100%;border-bottom: 1px solid gray;flex-grow: 1;}#sk-container-id-1 div.sk-label:hover label.sk-toggleable__label {background-color: #d4ebff;}#sk-container-id-1 div.sk-serial::before {content: \"\";position: absolute;border-left: 1px solid gray;box-sizing: border-box;top: 0;bottom: 0;left: 50%;z-index: 0;}#sk-container-id-1 div.sk-serial {display: flex;flex-direction: column;align-items: center;background-color: white;padding-right: 0.2em;padding-left: 0.2em;position: relative;}#sk-container-id-1 div.sk-item {position: relative;z-index: 1;}#sk-container-id-1 div.sk-parallel {display: flex;align-items: stretch;justify-content: center;background-color: white;position: relative;}#sk-container-id-1 div.sk-item::before, #sk-container-id-1 div.sk-parallel-item::before {content: \"\";position: absolute;border-left: 1px solid gray;box-sizing: border-box;top: 0;bottom: 0;left: 50%;z-index: -1;}#sk-container-id-1 div.sk-parallel-item {display: flex;flex-direction: column;z-index: 1;position: relative;background-color: white;}#sk-container-id-1 div.sk-parallel-item:first-child::after {align-self: flex-end;width: 50%;}#sk-container-id-1 div.sk-parallel-item:last-child::after {align-self: flex-start;width: 50%;}#sk-container-id-1 div.sk-parallel-item:only-child::after {width: 0;}#sk-container-id-1 div.sk-dashed-wrapped {border: 1px dashed gray;margin: 0 0.4em 0.5em 0.4em;box-sizing: border-box;padding-bottom: 0.4em;background-color: white;}#sk-container-id-1 div.sk-label label {font-family: monospace;font-weight: bold;display: inline-block;line-height: 1.2em;}#sk-container-id-1 div.sk-label-container {text-align: center;}#sk-container-id-1 div.sk-container {/* jupyter's `normalize.less` sets `[hidden] { display: none; }` but bootstrap.min.css set `[hidden] { display: none !important; }` so we also need the `!important` here to be able to override the default hidden behavior on the sphinx rendered scikit-learn.org. See: https://github.com/scikit-learn/scikit-learn/issues/21755 */display: inline-block !important;position: relative;}#sk-container-id-1 div.sk-text-repr-fallback {display: none;}</style><div id=\"sk-container-id-1\" class=\"sk-top-container\"><div class=\"sk-text-repr-fallback\"><pre>LogisticRegression()</pre><b>In a Jupyter environment, please rerun this cell to show the HTML representation or trust the notebook. <br />On GitHub, the HTML representation is unable to render, please try loading this page with nbviewer.org.</b></div><div class=\"sk-container\" hidden><div class=\"sk-item\"><div class=\"sk-estimator sk-toggleable\"><input class=\"sk-toggleable__control sk-hidden--visually\" id=\"sk-estimator-id-1\" type=\"checkbox\" checked><label for=\"sk-estimator-id-1\" class=\"sk-toggleable__label sk-toggleable__label-arrow\">LogisticRegression</label><div class=\"sk-toggleable__content\"><pre>LogisticRegression()</pre></div></div></div></div></div>"
            ]
          },
          "metadata": {},
          "execution_count": 7
        }
      ],
      "source": [
        "log_model = LogisticRegression() \n",
        "\n",
        "log_model.fit(X, y) #para el modelo de Regresión logistica entrenamos la relación entre X e y."
      ],
      "id": "0738624d"
    },
    {
      "cell_type": "code",
      "execution_count": null,
      "metadata": {
        "id": "7f867c1c"
      },
      "outputs": [],
      "source": [
        "# Evaluamos el modelo"
      ],
      "id": "7f867c1c"
    },
    {
      "cell_type": "code",
      "source": [
        "X_test, y_test = get_features_and_target_arrays(df_test, numeric_cols, cat_cols, scaler)"
      ],
      "metadata": {
        "id": "rHKX-hTtLyFm"
      },
      "id": "rHKX-hTtLyFm",
      "execution_count": null,
      "outputs": []
    },
    {
      "cell_type": "code",
      "execution_count": null,
      "metadata": {
        "id": "c76e3de8",
        "scrolled": true
      },
      "outputs": [],
      "source": [
        "y_score = log_model.decision_function(X_test)"
      ],
      "id": "c76e3de8"
    },
    {
      "cell_type": "code",
      "execution_count": null,
      "metadata": {
        "id": "Fx3gtRc4FjbS"
      },
      "outputs": [],
      "source": [
        "X_train, X_test, y_train, y_test = train_test_split(X, y, test_size = 0.2, random_state = 0)"
      ],
      "id": "Fx3gtRc4FjbS"
    },
    {
      "cell_type": "code",
      "execution_count": null,
      "metadata": {
        "colab": {
          "base_uri": "https://localhost:8080/"
        },
        "id": "wUmX0nklDhhV",
        "outputId": "528e4716-87f1-472a-a8f6-5bde0a70394c"
      },
      "outputs": [
        {
          "output_type": "execute_result",
          "data": {
            "text/plain": [
              "array([0, 1, 1, 1, 0, 0, 0, 0, 0, 0, 1, 0, 0, 0, 0, 0, 0, 1, 0, 1, 0, 0,\n",
              "       0, 0, 0, 1, 1, 1, 0, 0, 0, 1, 0, 0, 0, 1, 1, 0, 0, 0, 0, 1])"
            ]
          },
          "metadata": {},
          "execution_count": 12
        }
      ],
      "source": [
        "y_pred = log_model.predict(X_test)\n",
        "y_pred"
      ],
      "id": "wUmX0nklDhhV"
    },
    {
      "cell_type": "code",
      "execution_count": null,
      "metadata": {
        "colab": {
          "base_uri": "https://localhost:8080/"
        },
        "id": "8LKKk5t4E0fs",
        "outputId": "91742298-253c-474c-b7c2-f82c931931e2"
      },
      "outputs": [
        {
          "output_type": "stream",
          "name": "stdout",
          "text": [
            "Precisión: 0.8095238095238095\n"
          ]
        }
      ],
      "source": [
        "# Calculamos la precisión del modelo\n",
        "accuracy = accuracy_score(y_test, y_pred)\n",
        "print(\"Precisión:\", accuracy)"
      ],
      "id": "8LKKk5t4E0fs"
    },
    {
      "cell_type": "code",
      "execution_count": null,
      "metadata": {
        "id": "dnvgYuveE0u-"
      },
      "outputs": [],
      "source": [
        "y_pred_train = log_model.predict(X_train)"
      ],
      "id": "dnvgYuveE0u-"
    },
    {
      "cell_type": "code",
      "execution_count": null,
      "metadata": {
        "colab": {
          "base_uri": "https://localhost:8080/"
        },
        "id": "oqT7PMILE0-X",
        "outputId": "c25fccf4-0a10-4ac4-991c-ea51122461f5"
      },
      "outputs": [
        {
          "output_type": "stream",
          "name": "stdout",
          "text": [
            "Training-set accuracy score: 0.8494\n"
          ]
        }
      ],
      "source": [
        "print('Training-set accuracy score: {0:0.4f}'. format(accuracy_score(y_train, y_pred_train)))"
      ],
      "id": "oqT7PMILE0-X"
    },
    {
      "cell_type": "code",
      "execution_count": null,
      "metadata": {
        "colab": {
          "base_uri": "https://localhost:8080/"
        },
        "id": "YcJt1JkDGCoi",
        "outputId": "5a68dcd9-8a55-4c69-f613-72ef327bafea"
      },
      "outputs": [
        {
          "output_type": "stream",
          "name": "stdout",
          "text": [
            "Training set score: 0.8494\n",
            "Test set score: 0.8095\n"
          ]
        }
      ],
      "source": [
        "# print the scores on training and test set\n",
        "print('Training set score: {:.4f}'.format(log_model.score(X_train, y_train)))\n",
        "print('Test set score: {:.4f}'.format(log_model.score(X_test, y_test)))"
      ],
      "id": "YcJt1JkDGCoi"
    },
    {
      "cell_type": "code",
      "execution_count": null,
      "metadata": {
        "colab": {
          "base_uri": "https://localhost:8080/"
        },
        "id": "9VjnkgmNGC8D",
        "outputId": "63555316-55a8-4b48-81eb-4eda538af372"
      },
      "outputs": [
        {
          "output_type": "stream",
          "name": "stdout",
          "text": [
            "Confusion matrix\n",
            "\n",
            " [[23  2]\n",
            " [ 6 11]]\n",
            "\n",
            "True Positives(TP) =  23\n",
            "\n",
            "True Negatives(TN) =  11\n",
            "\n",
            "False Positives(FP) =  2\n",
            "\n",
            "False Negatives(FN) =  6\n"
          ]
        }
      ],
      "source": [
        "# Print the Confusion Matrix and slice it into four pieces\n",
        "from sklearn.metrics import confusion_matrix\n",
        "cm = confusion_matrix(y_test, y_pred)\n",
        "print('Confusion matrix\\n\\n', cm)\n",
        "print('\\nTrue Positives(TP) = ', cm[0,0])\n",
        "print('\\nTrue Negatives(TN) = ', cm[1,1])\n",
        "print('\\nFalse Positives(FP) = ', cm[0,1])\n",
        "print('\\nFalse Negatives(FN) = ', cm[1,0])"
      ],
      "id": "9VjnkgmNGC8D"
    },
    {
      "cell_type": "code",
      "execution_count": null,
      "metadata": {
        "colab": {
          "base_uri": "https://localhost:8080/"
        },
        "id": "l2abodQ2GDPX",
        "outputId": "126b38f9-0d7d-43a8-9d34-67c7ae2e46ac"
      },
      "outputs": [
        {
          "output_type": "execute_result",
          "data": {
            "text/plain": [
              "<Axes: >"
            ]
          },
          "metadata": {},
          "execution_count": 18
        },
        {
          "output_type": "display_data",
          "data": {
            "text/plain": [
              "<Figure size 640x480 with 2 Axes>"
            ],
            "image/png": "[encoded data removed]"
          },
          "metadata": {}
        }
      ],
      "source": [
        "# visualize confusion matrix with seaborn heatmap\n",
        "cm_matrix = pd.DataFrame(data=cm, columns=['Actual Positive:1', 'Actual Negative:0'], \n",
        "                                 index=['Predict Positive:1', 'Predict Negative:0'])\n",
        "sns.heatmap(cm_matrix, annot=True, fmt='d', cmap='YlGnBu')"
      ],
      "id": "l2abodQ2GDPX"
    },
    {
      "cell_type": "code",
      "execution_count": null,
      "metadata": {
        "colab": {
          "base_uri": "https://localhost:8080/"
        },
        "id": "IRJPY9vTGDip",
        "outputId": "0fcc0c82-9559-4901-dcca-af6d57eb724b"
      },
      "outputs": [
        {
          "output_type": "stream",
          "name": "stdout",
          "text": [
            "              precision    recall  f1-score   support\n",
            "\n",
            "           0       0.79      0.92      0.85        25\n",
            "           1       0.85      0.65      0.73        17\n",
            "\n",
            "    accuracy                           0.81        42\n",
            "   macro avg       0.82      0.78      0.79        42\n",
            "weighted avg       0.81      0.81      0.80        42\n",
            "\n"
          ]
        }
      ],
      "source": [
        "print(classification_report(y_test, y_pred))\n",
        "TP = cm[0,0]\n",
        "TN = cm[1,1]\n",
        "FP = cm[0,1]\n",
        "FN = cm[1,0]"
      ],
      "id": "IRJPY9vTGDip"
    },
    {
      "cell_type": "code",
      "execution_count": null,
      "metadata": {
        "colab": {
          "base_uri": "https://localhost:8080/"
        },
        "id": "g_bs5WZeGD5S",
        "outputId": "9085b659-67bb-4c41-b9ad-1bde75642997"
      },
      "outputs": [
        {
          "output_type": "stream",
          "name": "stdout",
          "text": [
            "Classification accuracy : 0.8095\n"
          ]
        }
      ],
      "source": [
        "# accuracy de clasificación \n",
        "classification_accuracy = (TP + TN) / float(TP + TN + FP + FN)\n",
        "print('Classification accuracy : {0:0.4f}'.format(classification_accuracy))"
      ],
      "id": "g_bs5WZeGD5S"
    },
    {
      "cell_type": "code",
      "execution_count": null,
      "metadata": {
        "colab": {
          "base_uri": "https://localhost:8080/"
        },
        "id": "qSs4zCMzHyID",
        "outputId": "00655b4f-3407-4620-b0d1-5d45c6466098"
      },
      "outputs": [
        {
          "output_type": "stream",
          "name": "stdout",
          "text": [
            "Classification error : 0.1905\n"
          ]
        }
      ],
      "source": [
        "# Error de clasificación \n",
        "classification_error = (FP + FN) / float(TP + TN + FP + FN)\n",
        "print('Classification error : {0:0.4f}'.format(classification_error))"
      ],
      "id": "qSs4zCMzHyID"
    },
    {
      "cell_type": "code",
      "execution_count": null,
      "metadata": {
        "colab": {
          "base_uri": "https://localhost:8080/"
        },
        "id": "MTyYmqgXHyhy",
        "outputId": "492f5ad6-9acb-479e-87bc-67c914ddc6b8"
      },
      "outputs": [
        {
          "output_type": "stream",
          "name": "stdout",
          "text": [
            "Recall o Sensitivity : 0.7931\n"
          ]
        }
      ],
      "source": [
        "#Sensitivity\n",
        "recall = TP / float(TP + FN)\n",
        "print('Recall o Sensitivity : {0:0.4f}'.format(recall))"
      ],
      "id": "MTyYmqgXHyhy"
    },
    {
      "cell_type": "code",
      "execution_count": null,
      "metadata": {
        "colab": {
          "base_uri": "https://localhost:8080/"
        },
        "id": "yQ4gE4NEHy6V",
        "outputId": "d1914bd5-6f03-4dd8-edfe-9acc2025fa40"
      },
      "outputs": [
        {
          "output_type": "stream",
          "name": "stdout",
          "text": [
            "Precision : 0.9200\n"
          ]
        }
      ],
      "source": [
        "# Precisión \n",
        "precision = TP / float(TP + FP)\n",
        "print('Precision : {0:0.4f}'.format(precision))"
      ],
      "id": "yQ4gE4NEHy6V"
    },
    {
      "cell_type": "code",
      "execution_count": null,
      "metadata": {
        "colab": {
          "base_uri": "https://localhost:8080/"
        },
        "id": "yMQbrG7sH_go",
        "outputId": "e835f6e9-0d70-4141-ad8c-414f904262a3"
      },
      "outputs": [
        {
          "output_type": "stream",
          "name": "stdout",
          "text": [
            "False Positive Rate : 0.1538\n"
          ]
        }
      ],
      "source": [
        "#False positive rate\n",
        "false_positive_rate = FP / float(FP + TN)\n",
        "print('False Positive Rate : {0:0.4f}'.format(false_positive_rate))"
      ],
      "id": "yMQbrG7sH_go"
    },
    {
      "cell_type": "code",
      "execution_count": null,
      "metadata": {
        "colab": {
          "base_uri": "https://localhost:8080/"
        },
        "id": "dRb8jBi3H_6X",
        "outputId": "2253f4db-b063-4a26-c695-c0b5af7df535"
      },
      "outputs": [
        {
          "output_type": "stream",
          "name": "stdout",
          "text": [
            "Specificity : 0.8462\n"
          ]
        }
      ],
      "source": [
        "specificity = TN / (TN + FP)\n",
        "print('Specificity : {0:0.4f}'.format(specificity))"
      ],
      "id": "dRb8jBi3H_6X"
    },
    {
      "cell_type": "code",
      "execution_count": null,
      "metadata": {
        "id": "75e7cq3sK_U_"
      },
      "outputs": [],
      "source": [
        "X_test, y_test = get_features_and_target_arrays(df_test, numeric_cols, cat_cols, scaler) #obtenemos la matriz de datos para X_test y el vector y_test del test."
      ],
      "id": "75e7cq3sK_U_"
    },
    {
      "cell_type": "code",
      "execution_count": null,
      "metadata": {
        "colab": {
          "base_uri": "https://localhost:8080/"
        },
        "id": "217d16f5",
        "outputId": "e746ea1e-587b-4395-de16-451a6f3b1675"
      },
      "outputs": [
        {
          "output_type": "execute_result",
          "data": {
            "text/plain": [
              "[<matplotlib.lines.Line2D at 0x7fab441ed720>]"
            ]
          },
          "metadata": {},
          "execution_count": 27
        },
        {
          "output_type": "display_data",
          "data": {
            "text/plain": [
              "<Figure size 640x480 with 1 Axes>"
            ],
            "image/png": "[encoded data removed]"
          },
          "metadata": {}
        }
      ],
      "source": [
        "#Graficamos curva ROC entre TPR y FPR\n",
        "fpr, tpr, _ = sk_metrics.roc_curve(y_test, y_score, pos_label= log_model.classes_[1])\n",
        "roc_display = sk_metrics.RocCurveDisplay(fpr= fpr, tpr= tpr).plot()\n",
        "plt.plot([0,1], [0,1], 'k--')"
      ],
      "id": "217d16f5"
    },
    {
      "cell_type": "code",
      "execution_count": null,
      "metadata": {
        "colab": {
          "base_uri": "https://localhost:8080/"
        },
        "id": "8e84637b",
        "outputId": "799d1636-9b22-4adc-91fd-6b0bfca901ce"
      },
      "outputs": [
        {
          "output_type": "stream",
          "name": "stderr",
          "text": [
            "<ipython-input-28-955fd06e89c8>:8: UserWarning: color is redundantly defined by the 'color' keyword argument and the fmt string \"bo\" (-> color='b'). The keyword argument will take precedence.\n",
            "  plt.plot(x_values, y_values, 'bo', linestyle=\"--\", color=\"black\")\n"
          ]
        },
        {
          "output_type": "execute_result",
          "data": {
            "text/plain": [
              "[<matplotlib.lines.Line2D at 0x7fab4405b010>]"
            ]
          },
          "metadata": {},
          "execution_count": 28
        },
        {
          "output_type": "display_data",
          "data": {
            "text/plain": [
              "<Figure size 640x480 with 1 Axes>"
            ],
            "image/png": "[encoded data removed]"
          },
          "metadata": {}
        }
      ],
      "source": [
        "#Graficamos curva ROC entre Precision-Recall o Specificity-Sensitivity\n",
        "prec, recall, _ = sk_metrics.precision_recall_curve(y_test, y_score, pos_label= log_model.classes_[1])\n",
        "pr_display = sk_metrics.PrecisionRecallDisplay(precision= prec, recall= recall).plot()\n",
        "point1 = [1, 0]\n",
        "point2 = [0, 1]\n",
        "x_values = [point1[0], point2[0]]\n",
        "y_values = [point1[1], point2[1]]\n",
        "plt.plot(x_values, y_values, 'bo', linestyle=\"--\", color=\"black\")"
      ],
      "id": "8e84637b"
    },
    {
      "cell_type": "code",
      "execution_count": null,
      "metadata": {
        "colab": {
          "base_uri": "https://localhost:8080/"
        },
        "id": "MUaYonwGvPUi",
        "outputId": "a6108731-9206-419d-af5b-f6c3267d6115"
      },
      "outputs": [
        {
          "output_type": "execute_result",
          "data": {
            "text/plain": [
              "0.9184418145956608"
            ]
          },
          "metadata": {},
          "execution_count": 29
        }
      ],
      "source": [
        "from sklearn.metrics import roc_auc_score\n",
        "auc_log = roc_auc_score(y, log_model.decision_function(X))  #Obtenemos el AUC.\n",
        "auc_log"
      ],
      "id": "MUaYonwGvPUi"
    },
    {
      "cell_type": "markdown",
      "metadata": {
        "id": "tXk6zBHry2DK"
      },
      "source": [
        "Podemos ver que el área bajo la curva es 0.9184, lo que clasificador muy bueno."
      ],
      "id": "tXk6zBHry2DK"
    },
    {
      "cell_type": "markdown",
      "metadata": {
        "id": "835efe93"
      },
      "source": [
        "### SVM"
      ],
      "id": "835efe93"
    },
    {
      "cell_type": "code",
      "execution_count": null,
      "metadata": {
        "id": "4c1c93c9"
      },
      "outputs": [],
      "source": [
        "y = df[\"attack\"]\n",
        "X = df.drop('attack',axis=1)\n",
        "X_train, X_test, y_train, y_test = train_test_split(X, y, test_size=0.20, random_state = 0, stratify=df['attack'])\n",
        "#particionamos X e y, donde el 20% de las observaciones son para el test y el 80% de las observaciones son para el train, \n",
        "#con una partición estratificada respecto a la variable \"attack\"."
      ],
      "id": "4c1c93c9"
    },
    {
      "cell_type": "code",
      "execution_count": null,
      "metadata": {
        "colab": {
          "base_uri": "https://localhost:8080/"
        },
        "id": "18612a58",
        "outputId": "392cdd73-21f0-4520-88b3-360d5ca54331"
      },
      "outputs": [
        {
          "output_type": "stream",
          "name": "stdout",
          "text": [
            "confussion matrix\n",
            "[[31  2]\n",
            " [12  8]]\n",
            "\n",
            "\n",
            "Accuracy of Support Vector Classifier: 73.58490566037736 \n",
            "\n",
            "              precision    recall  f1-score   support\n",
            "\n",
            "           0       0.72      0.94      0.82        33\n",
            "           1       0.80      0.40      0.53        20\n",
            "\n",
            "    accuracy                           0.74        53\n",
            "   macro avg       0.76      0.67      0.67        53\n",
            "weighted avg       0.75      0.74      0.71        53\n",
            "\n"
          ]
        }
      ],
      "source": [
        "svc =  svm.SVC(kernel='rbf', C=3) \n",
        "svc.fit(X_train, y_train) #entrenamiento con SVM, para un parámetro de regularización igual a 3 y un kernel rbf(radial basis function).\n",
        "\n",
        "svc_predicted = svc.predict(X_test)\n",
        "\n",
        "svc_conf_matrix = sk_metrics.confusion_matrix(y_test, svc_predicted) \n",
        "svc_acc_score = sk_metrics.accuracy_score(y_test, svc_predicted)\n",
        "\n",
        "print(\"confussion matrix\")\n",
        "print(svc_conf_matrix)\n",
        "print(\"\\n\")\n",
        "print(\"Accuracy of Support Vector Classifier:\", svc_acc_score*100,'\\n')\n",
        "print(sk_metrics.classification_report(y_test, svc_predicted))\n",
        "\n"
      ],
      "id": "18612a58"
    },
    {
      "cell_type": "code",
      "execution_count": null,
      "metadata": {
        "colab": {
          "base_uri": "https://localhost:8080/"
        },
        "id": "bnHbm06dIlQv",
        "outputId": "c6e199c1-5d69-446b-d730-4876fdbf8574"
      },
      "outputs": [
        {
          "output_type": "execute_result",
          "data": {
            "text/plain": [
              "array([0, 0, 0, 0, 0, 0, 0, 0, 0, 0, 0, 0, 0, 0, 0, 0, 0, 0, 0, 0, 1, 0,\n",
              "       0, 1, 0, 0, 1, 0, 0, 0, 0, 0, 0, 0, 1, 0, 1, 0, 1, 1, 0, 0, 0, 0,\n",
              "       0, 0, 0, 0, 0, 0, 0, 0, 0, 0, 1, 1, 0, 0, 0, 0, 1, 0, 1, 0, 0, 0,\n",
              "       0, 0, 0, 0, 0, 0, 0, 0, 0, 0, 0, 0, 0, 0, 1, 0, 0, 1, 0, 0, 0, 0,\n",
              "       0, 0, 0, 0, 0, 1, 0, 0, 0, 0, 0, 0, 1, 0, 0, 0, 0, 0, 0, 0, 0, 0,\n",
              "       1, 0, 0, 0, 0, 0, 0, 0, 0, 0, 0, 0, 0, 0, 1, 0, 0, 0, 0, 0, 0, 1,\n",
              "       0, 0, 0, 0, 0, 0, 0, 0, 0, 0, 0, 0, 0, 0, 0, 0, 1, 0, 0, 0, 0, 0,\n",
              "       0, 0, 1, 0, 0, 0, 0, 0, 0, 0, 0, 0, 0, 0, 0, 0, 0, 1, 0, 0, 0, 0,\n",
              "       0, 1, 0, 0, 0, 0, 0, 0, 0, 0, 0, 1, 0, 0, 0, 0, 1, 0, 0, 0, 1, 1,\n",
              "       0, 0, 0, 0, 0, 0, 0, 0, 0, 0])"
            ]
          },
          "metadata": {},
          "execution_count": 32
        }
      ],
      "source": [
        "y_pred_train = svc.predict(X_train)\n",
        "y_pred_train"
      ],
      "id": "bnHbm06dIlQv"
    },
    {
      "cell_type": "code",
      "execution_count": null,
      "metadata": {
        "colab": {
          "base_uri": "https://localhost:8080/"
        },
        "id": "aqxiGuZlIl1f",
        "outputId": "0c22ea44-bb23-4eb5-c387-de3639fd7d12"
      },
      "outputs": [
        {
          "output_type": "stream",
          "name": "stdout",
          "text": [
            "Training-set accuracy score: 0.6827\n"
          ]
        }
      ],
      "source": [
        "print('Training-set accuracy score: {0:0.4f}'. format(accuracy_score(y_train, y_pred_train)))"
      ],
      "id": "aqxiGuZlIl1f"
    },
    {
      "cell_type": "code",
      "execution_count": null,
      "metadata": {
        "colab": {
          "base_uri": "https://localhost:8080/"
        },
        "id": "PxAxNeZRImY2",
        "outputId": "c57823d4-ea3c-4ea4-9036-9566aa82444b"
      },
      "outputs": [
        {
          "output_type": "stream",
          "name": "stdout",
          "text": [
            "Training set score: 0.6827\n",
            "Test set score: 0.7358\n"
          ]
        }
      ],
      "source": [
        "# print the scores on training and test set\n",
        "print('Training set score: {:.4f}'.format(svc.score(X_train, y_train)))\n",
        "print('Test set score: {:.4f}'.format(svc.score(X_test, y_test)))"
      ],
      "id": "PxAxNeZRImY2"
    },
    {
      "cell_type": "code",
      "execution_count": null,
      "metadata": {
        "id": "Z91CCNHeJHyC"
      },
      "outputs": [],
      "source": [
        "TP = svc_conf_matrix[0,0]\n",
        "TN = svc_conf_matrix[1,1]\n",
        "FP = svc_conf_matrix[0,1]\n",
        "FN = svc_conf_matrix[1,0]"
      ],
      "id": "Z91CCNHeJHyC"
    },
    {
      "cell_type": "code",
      "execution_count": null,
      "metadata": {
        "colab": {
          "base_uri": "https://localhost:8080/"
        },
        "id": "04ugIYKmJowH",
        "outputId": "b4de41b7-253e-4406-d2c9-033d582bc1af"
      },
      "outputs": [
        {
          "output_type": "stream",
          "name": "stdout",
          "text": [
            "Classification accuracy : 0.7358\n"
          ]
        }
      ],
      "source": [
        "# accuracy de clasificación \n",
        "classification_accuracy = (TP + TN) / float(TP + TN + FP + FN)\n",
        "print('Classification accuracy : {0:0.4f}'.format(classification_accuracy))"
      ],
      "id": "04ugIYKmJowH"
    },
    {
      "cell_type": "code",
      "execution_count": null,
      "metadata": {
        "colab": {
          "base_uri": "https://localhost:8080/"
        },
        "id": "nv0okWmUIm9H",
        "outputId": "a8f97247-ffe7-425e-a264-850665efb042"
      },
      "outputs": [
        {
          "output_type": "stream",
          "name": "stdout",
          "text": [
            "Classification error : 0.2642\n"
          ]
        }
      ],
      "source": [
        "# Error de clasificación \n",
        "classification_error = (FP + FN) / float(TP + TN + FP + FN)\n",
        "print('Classification error : {0:0.4f}'.format(classification_error))"
      ],
      "id": "nv0okWmUIm9H"
    },
    {
      "cell_type": "code",
      "execution_count": null,
      "metadata": {
        "colab": {
          "base_uri": "https://localhost:8080/"
        },
        "id": "BoTlE5oxJ8PW",
        "outputId": "22460089-a3c9-44fa-99cf-ab98d0b1c622"
      },
      "outputs": [
        {
          "output_type": "stream",
          "name": "stdout",
          "text": [
            "Recall o Sensitivity : 0.7209\n"
          ]
        }
      ],
      "source": [
        "#Sensitivity\n",
        "recall = TP / float(TP + FN)\n",
        "print('Recall o Sensitivity : {0:0.4f}'.format(recall))"
      ],
      "id": "BoTlE5oxJ8PW"
    },
    {
      "cell_type": "code",
      "execution_count": null,
      "metadata": {
        "colab": {
          "base_uri": "https://localhost:8080/"
        },
        "id": "SNDXSrNdJ8vG",
        "outputId": "201a152d-772f-4755-c60d-23fa995280de"
      },
      "outputs": [
        {
          "output_type": "stream",
          "name": "stdout",
          "text": [
            "Precision : 0.9394\n"
          ]
        }
      ],
      "source": [
        "# Precisión \n",
        "precision = TP / float(TP + FP)\n",
        "print('Precision : {0:0.4f}'.format(precision))"
      ],
      "id": "SNDXSrNdJ8vG"
    },
    {
      "cell_type": "code",
      "execution_count": null,
      "metadata": {
        "colab": {
          "base_uri": "https://localhost:8080/"
        },
        "id": "-u23yMVVJ9Oz",
        "outputId": "74921f3e-b6a8-4a95-d75f-609416358829"
      },
      "outputs": [
        {
          "output_type": "stream",
          "name": "stdout",
          "text": [
            "False Positive Rate : 0.2000\n"
          ]
        }
      ],
      "source": [
        "#False positive rate\n",
        "false_positive_rate = FP / float(FP + TN)\n",
        "print('False Positive Rate : {0:0.4f}'.format(false_positive_rate))"
      ],
      "id": "-u23yMVVJ9Oz"
    },
    {
      "cell_type": "code",
      "execution_count": null,
      "metadata": {
        "colab": {
          "base_uri": "https://localhost:8080/"
        },
        "id": "il3Bi2zQKMqF",
        "outputId": "3c7278ca-dd86-4192-8417-742249208cc9"
      },
      "outputs": [
        {
          "output_type": "stream",
          "name": "stdout",
          "text": [
            "Specificity : 0.8000\n"
          ]
        }
      ],
      "source": [
        "specificity = TN / (TN + FP)\n",
        "print('Specificity : {0:0.4f}'.format(specificity))"
      ],
      "id": "il3Bi2zQKMqF"
    },
    {
      "cell_type": "code",
      "execution_count": null,
      "metadata": {
        "colab": {
          "base_uri": "https://localhost:8080/"
        },
        "id": "9f2cc808",
        "outputId": "b5d250fb-e939-4f06-bf0b-3389338707f9"
      },
      "outputs": [
        {
          "output_type": "execute_result",
          "data": {
            "text/plain": [
              "[<matplotlib.lines.Line2D at 0x7fab440f9990>]"
            ]
          },
          "metadata": {},
          "execution_count": 42
        },
        {
          "output_type": "display_data",
          "data": {
            "text/plain": [
              "<Figure size 640x480 with 1 Axes>"
            ],
            "image/png": "[encoded data removed]"
          },
          "metadata": {}
        }
      ],
      "source": [
        "y_score = svc.decision_function(X_test)\n",
        "\n",
        "#Graficamos curva ROC entre TPR y FPR\n",
        "fpr, tpr, _ = sk_metrics.roc_curve(y_test, y_score, pos_label= log_model.classes_[1])\n",
        "roc_display = sk_metrics.RocCurveDisplay(fpr= fpr, tpr= tpr).plot()\n",
        "plt.plot([0,1], [0,1], 'k--')"
      ],
      "id": "9f2cc808"
    },
    {
      "cell_type": "code",
      "execution_count": null,
      "metadata": {
        "colab": {
          "base_uri": "https://localhost:8080/"
        },
        "id": "Gi_D1ylLyfmS",
        "outputId": "ae70ee62-94e2-4f9f-9bea-6958277797dc"
      },
      "outputs": [
        {
          "output_type": "stream",
          "name": "stderr",
          "text": [
            "<ipython-input-43-bbbf9a669d7d>:8: UserWarning: color is redundantly defined by the 'color' keyword argument and the fmt string \"bo\" (-> color='b'). The keyword argument will take precedence.\n",
            "  plt.plot(x_values, y_values, 'bo', linestyle=\"--\", color=\"black\")\n"
          ]
        },
        {
          "output_type": "execute_result",
          "data": {
            "text/plain": [
              "[<matplotlib.lines.Line2D at 0x7fab43f5f550>]"
            ]
          },
          "metadata": {},
          "execution_count": 43
        },
        {
          "output_type": "display_data",
          "data": {
            "text/plain": [
              "<Figure size 640x480 with 1 Axes>"
            ],
            "image/png": "[encoded data removed]"
          },
          "metadata": {}
        }
      ],
      "source": [
        "#Graficamos curva ROC entre Precision-Recall o Specificity-Sensitivity\n",
        "prec, recall, _ = sk_metrics.precision_recall_curve(y_test, y_score, pos_label= svc.classes_[1])\n",
        "pr_display = sk_metrics.PrecisionRecallDisplay(precision= prec, recall= recall).plot()\n",
        "point1 = [1, 0]\n",
        "point2 = [0, 1]\n",
        "x_values = [point1[0], point2[0]]\n",
        "y_values = [point1[1], point2[1]]\n",
        "plt.plot(x_values, y_values, 'bo', linestyle=\"--\", color=\"black\")"
      ],
      "id": "Gi_D1ylLyfmS"
    },
    {
      "cell_type": "code",
      "execution_count": null,
      "metadata": {
        "colab": {
          "base_uri": "https://localhost:8080/"
        },
        "id": "Uz6DN1q83IAV",
        "outputId": "32682f02-e561-4e62-e828-e34984700139"
      },
      "outputs": [
        {
          "output_type": "execute_result",
          "data": {
            "text/plain": [
              "0.7231125579065981"
            ]
          },
          "metadata": {},
          "execution_count": 44
        }
      ],
      "source": [
        "#AUC\n",
        "auc_svm = roc_auc_score(y, svc.decision_function(X))\n",
        "auc_svm"
      ],
      "id": "Uz6DN1q83IAV"
    },
    {
      "cell_type": "markdown",
      "metadata": {
        "id": "4M2-_SL339Im"
      },
      "source": [
        "Vemos que el AUC es igual a 0.7231, si comparamos el modelo de regresión logistica que tiene un AUC de 0.9184, dada esta métrica podemos decir que el modelo de regresión logistica es un mejor modelo para este conjunto de datos. \n",
        "\n"
      ],
      "id": "4M2-_SL339Im"
    },
    {
      "cell_type": "markdown",
      "metadata": {
        "id": "oOYmHaEM42tJ"
      },
      "source": [
        "### Naïve Bayes"
      ],
      "id": "oOYmHaEM42tJ"
    },
    {
      "cell_type": "code",
      "execution_count": null,
      "metadata": {
        "id": "eCI8xhvx49BD"
      },
      "outputs": [],
      "source": [
        "y = df['attack']\n",
        "X = df.drop(['attack'], axis=1)"
      ],
      "id": "eCI8xhvx49BD"
    },
    {
      "cell_type": "code",
      "execution_count": null,
      "metadata": {
        "id": "hg-c2K0n6QB0"
      },
      "outputs": [],
      "source": [
        "from sklearn.model_selection import train_test_split\n",
        "#Separar X e y en test y entrenamiento\n",
        "X_train, X_test, y_train, y_test = train_test_split(X, y, test_size = 0.3, random_state = 0)"
      ],
      "id": "hg-c2K0n6QB0"
    },
    {
      "cell_type": "code",
      "execution_count": null,
      "metadata": {
        "colab": {
          "base_uri": "https://localhost:8080/"
        },
        "id": "jfQEEGL26QJR",
        "outputId": "ac67dfb2-d82e-448f-b79c-362f24960dc9"
      },
      "outputs": [
        {
          "output_type": "execute_result",
          "data": {
            "text/plain": [
              "((182, 10), (79, 10))"
            ]
          },
          "metadata": {},
          "execution_count": 47
        }
      ],
      "source": [
        "#chequear dimensión de X_train y X_test\n",
        "X_train.shape, X_test.shape"
      ],
      "id": "jfQEEGL26QJR"
    },
    {
      "cell_type": "code",
      "execution_count": null,
      "metadata": {
        "colab": {
          "base_uri": "https://localhost:8080/"
        },
        "id": "MJeR6-nQ6QLS",
        "outputId": "4cbde572-fee5-4fb4-8e12-ff8cd12ebaf1"
      },
      "outputs": [
        {
          "output_type": "execute_result",
          "data": {
            "text/plain": [
              "['trestbps', 'chol', 'fbs', 'restecg', 'thalach', 'exang']"
            ]
          },
          "metadata": {},
          "execution_count": 48
        }
      ],
      "source": [
        "#Separar variables numéricas de categóricas\n",
        "# Variables categóricas\n",
        "categorical = [col for col in X_train.columns if X_train[col].dtypes == 'O']\n",
        "categorical"
      ],
      "id": "MJeR6-nQ6QLS"
    },
    {
      "cell_type": "code",
      "execution_count": null,
      "metadata": {
        "colab": {
          "base_uri": "https://localhost:8080/"
        },
        "id": "ciiGsqqr6QNm",
        "outputId": "f8fb24b8-2f82-422c-92d3-f36273417862"
      },
      "outputs": [
        {
          "output_type": "execute_result",
          "data": {
            "text/plain": [
              "['age', 'sex', 'cp', 'oldpeak']"
            ]
          },
          "metadata": {},
          "execution_count": 49
        }
      ],
      "source": [
        "# Variables numéricas\n",
        "numerical = [col for col in X_train.columns if X_train[col].dtypes != 'O']\n",
        "numerical"
      ],
      "id": "ciiGsqqr6QNm"
    },
    {
      "cell_type": "code",
      "execution_count": null,
      "metadata": {
        "id": "Jpc9FV4L6QQA"
      },
      "outputs": [],
      "source": [
        "cols = X_train.columns\n",
        "#Escalar variables\n",
        "from sklearn.preprocessing import RobustScaler\n",
        "scaler = RobustScaler()\n",
        "X_train = scaler.fit_transform(X_train)\n",
        "X_test = scaler.transform(X_test)"
      ],
      "id": "Jpc9FV4L6QQA"
    },
    {
      "cell_type": "code",
      "execution_count": null,
      "metadata": {
        "id": "i9HZXBey6RA4"
      },
      "outputs": [],
      "source": [
        "X_train = pd.DataFrame(X_train, columns=[cols])"
      ],
      "id": "i9HZXBey6RA4"
    },
    {
      "cell_type": "code",
      "execution_count": null,
      "metadata": {
        "id": "sKJfjDFZ6RGy"
      },
      "outputs": [],
      "source": [
        "X_test = pd.DataFrame(X_test, columns=[cols])"
      ],
      "id": "sKJfjDFZ6RGy"
    },
    {
      "cell_type": "code",
      "execution_count": null,
      "metadata": {
        "colab": {
          "base_uri": "https://localhost:8080/"
        },
        "id": "JykV6Vrz6-rS",
        "outputId": "6adba6e0-0e1e-4292-9dc9-589f48ff051d"
      },
      "outputs": [
        {
          "output_type": "execute_result",
          "data": {
            "text/plain": [
              "BernoulliNB()"
            ],
            "text/html": [
              "<style>#sk-container-id-2 {color: black;background-color: white;}#sk-container-id-2 pre{padding: 0;}#sk-container-id-2 div.sk-toggleable {background-color: white;}#sk-container-id-2 label.sk-toggleable__label {cursor: pointer;display: block;width: 100%;margin-bottom: 0;padding: 0.3em;box-sizing: border-box;text-align: center;}#sk-container-id-2 label.sk-toggleable__label-arrow:before {content: \"▸\";float: left;margin-right: 0.25em;color: #696969;}#sk-container-id-2 label.sk-toggleable__label-arrow:hover:before {color: black;}#sk-container-id-2 div.sk-estimator:hover label.sk-toggleable__label-arrow:before {color: black;}#sk-container-id-2 div.sk-toggleable__content {max-height: 0;max-width: 0;overflow: hidden;text-align: left;background-color: #f0f8ff;}#sk-container-id-2 div.sk-toggleable__content pre {margin: 0.2em;color: black;border-radius: 0.25em;background-color: #f0f8ff;}#sk-container-id-2 input.sk-toggleable__control:checked~div.sk-toggleable__content {max-height: 200px;max-width: 100%;overflow: auto;}#sk-container-id-2 input.sk-toggleable__control:checked~label.sk-toggleable__label-arrow:before {content: \"▾\";}#sk-container-id-2 div.sk-estimator input.sk-toggleable__control:checked~label.sk-toggleable__label {background-color: #d4ebff;}#sk-container-id-2 div.sk-label input.sk-toggleable__control:checked~label.sk-toggleable__label {background-color: #d4ebff;}#sk-container-id-2 input.sk-hidden--visually {border: 0;clip: rect(1px 1px 1px 1px);clip: rect(1px, 1px, 1px, 1px);height: 1px;margin: -1px;overflow: hidden;padding: 0;position: absolute;width: 1px;}#sk-container-id-2 div.sk-estimator {font-family: monospace;background-color: #f0f8ff;border: 1px dotted black;border-radius: 0.25em;box-sizing: border-box;margin-bottom: 0.5em;}#sk-container-id-2 div.sk-estimator:hover {background-color: #d4ebff;}#sk-container-id-2 div.sk-parallel-item::after {content: \"\";width: 100%;border-bottom: 1px solid gray;flex-grow: 1;}#sk-container-id-2 div.sk-label:hover label.sk-toggleable__label {background-color: #d4ebff;}#sk-container-id-2 div.sk-serial::before {content: \"\";position: absolute;border-left: 1px solid gray;box-sizing: border-box;top: 0;bottom: 0;left: 50%;z-index: 0;}#sk-container-id-2 div.sk-serial {display: flex;flex-direction: column;align-items: center;background-color: white;padding-right: 0.2em;padding-left: 0.2em;position: relative;}#sk-container-id-2 div.sk-item {position: relative;z-index: 1;}#sk-container-id-2 div.sk-parallel {display: flex;align-items: stretch;justify-content: center;background-color: white;position: relative;}#sk-container-id-2 div.sk-item::before, #sk-container-id-2 div.sk-parallel-item::before {content: \"\";position: absolute;border-left: 1px solid gray;box-sizing: border-box;top: 0;bottom: 0;left: 50%;z-index: -1;}#sk-container-id-2 div.sk-parallel-item {display: flex;flex-direction: column;z-index: 1;position: relative;background-color: white;}#sk-container-id-2 div.sk-parallel-item:first-child::after {align-self: flex-end;width: 50%;}#sk-container-id-2 div.sk-parallel-item:last-child::after {align-self: flex-start;width: 50%;}#sk-container-id-2 div.sk-parallel-item:only-child::after {width: 0;}#sk-container-id-2 div.sk-dashed-wrapped {border: 1px dashed gray;margin: 0 0.4em 0.5em 0.4em;box-sizing: border-box;padding-bottom: 0.4em;background-color: white;}#sk-container-id-2 div.sk-label label {font-family: monospace;font-weight: bold;display: inline-block;line-height: 1.2em;}#sk-container-id-2 div.sk-label-container {text-align: center;}#sk-container-id-2 div.sk-container {/* jupyter's `normalize.less` sets `[hidden] { display: none; }` but bootstrap.min.css set `[hidden] { display: none !important; }` so we also need the `!important` here to be able to override the default hidden behavior on the sphinx rendered scikit-learn.org. See: https://github.com/scikit-learn/scikit-learn/issues/21755 */display: inline-block !important;position: relative;}#sk-container-id-2 div.sk-text-repr-fallback {display: none;}</style><div id=\"sk-container-id-2\" class=\"sk-top-container\"><div class=\"sk-text-repr-fallback\"><pre>BernoulliNB()</pre><b>In a Jupyter environment, please rerun this cell to show the HTML representation or trust the notebook. <br />On GitHub, the HTML representation is unable to render, please try loading this page with nbviewer.org.</b></div><div class=\"sk-container\" hidden><div class=\"sk-item\"><div class=\"sk-estimator sk-toggleable\"><input class=\"sk-toggleable__control sk-hidden--visually\" id=\"sk-estimator-id-2\" type=\"checkbox\" checked><label for=\"sk-estimator-id-2\" class=\"sk-toggleable__label sk-toggleable__label-arrow\">BernoulliNB</label><div class=\"sk-toggleable__content\"><pre>BernoulliNB()</pre></div></div></div></div></div>"
            ]
          },
          "metadata": {},
          "execution_count": 53
        }
      ],
      "source": [
        "#Entrenamiento del modelo\n",
        "\n",
        "# train a Gaussian Naive Bayes classifier on the training set\n",
        "from sklearn.naive_bayes import BernoulliNB\n",
        "\n",
        "# instantiate the model\n",
        "bnb = BernoulliNB()\n",
        "\n",
        "# fit the model\n",
        "bnb.fit(X_train, y_train)"
      ],
      "id": "JykV6Vrz6-rS"
    },
    {
      "cell_type": "code",
      "execution_count": null,
      "metadata": {
        "colab": {
          "base_uri": "https://localhost:8080/"
        },
        "id": "aevDLaOM6-wf",
        "outputId": "d84db357-13a3-4533-9c4a-5222b9665f23"
      },
      "outputs": [
        {
          "output_type": "execute_result",
          "data": {
            "text/plain": [
              "array([0, 0, 1, 0, 1, 1, 0, 0, 0, 0, 1, 0, 1, 0, 0, 0, 1, 1, 0, 0, 1, 0,\n",
              "       0, 1, 1, 1, 0, 1, 1, 0, 0, 0, 0, 0, 0, 0, 0, 0, 1, 0, 0, 0, 1, 0,\n",
              "       0, 1, 0, 1, 1, 0, 0, 0, 0, 1, 0, 0, 1, 0, 0, 0, 0, 0, 1, 0, 0, 1,\n",
              "       1, 1, 1, 0, 1, 0, 1, 1, 0, 0, 0, 1, 0])"
            ]
          },
          "metadata": {},
          "execution_count": 54
        }
      ],
      "source": [
        "#Predicción de resultados\n",
        "y_pred = bnb.predict(X_test)\n",
        "y_pred"
      ],
      "id": "aevDLaOM6-wf"
    },
    {
      "cell_type": "code",
      "execution_count": null,
      "metadata": {
        "colab": {
          "base_uri": "https://localhost:8080/"
        },
        "id": "EfdaVxUU6-01",
        "outputId": "08e40f48-b6e2-48f7-e7e7-783606545e7e"
      },
      "outputs": [
        {
          "output_type": "stream",
          "name": "stdout",
          "text": [
            "Model accuracy score: 0.8608\n"
          ]
        }
      ],
      "source": [
        "#Métrica Accuracy del modelo\n",
        "from sklearn.metrics import accuracy_score\n",
        "print('Model accuracy score: {0:0.4f}'. format(accuracy_score(y_test, y_pred)))"
      ],
      "id": "EfdaVxUU6-01"
    },
    {
      "cell_type": "code",
      "execution_count": null,
      "metadata": {
        "colab": {
          "base_uri": "https://localhost:8080/"
        },
        "id": "krYe9clH6-4R",
        "outputId": "44048158-0732-4d37-8c4c-f12a4017578f"
      },
      "outputs": [
        {
          "output_type": "execute_result",
          "data": {
            "text/plain": [
              "array([0, 0, 0, 0, 1, 0, 0, 0, 0, 0, 1, 1, 1, 0, 0, 0, 0, 0, 0, 0, 1, 0,\n",
              "       0, 1, 0, 0, 1, 0, 0, 1, 0, 0, 0, 1, 0, 0, 0, 0, 1, 0, 1, 0, 0, 0,\n",
              "       0, 1, 0, 1, 0, 1, 0, 0, 1, 1, 0, 0, 0, 0, 0, 0, 0, 1, 0, 0, 1, 1,\n",
              "       1, 0, 1, 1, 0, 0, 0, 0, 0, 0, 0, 1, 0, 0, 1, 1, 0, 0, 0, 0, 1, 0,\n",
              "       0, 1, 0, 1, 0, 1, 1, 0, 0, 1, 1, 0, 0, 0, 0, 0, 0, 0, 0, 0, 1, 0,\n",
              "       0, 0, 0, 0, 0, 0, 1, 0, 1, 0, 0, 0, 0, 0, 0, 1, 1, 0, 1, 0, 1, 0,\n",
              "       1, 1, 1, 0, 0, 0, 1, 0, 0, 1, 1, 0, 0, 0, 0, 1, 1, 1, 0, 1, 1, 0,\n",
              "       0, 0, 0, 0, 1, 1, 0, 0, 0, 0, 0, 0, 0, 1, 0, 0, 0, 1, 0, 1, 0, 0,\n",
              "       1, 1, 1, 1, 0, 0])"
            ]
          },
          "metadata": {},
          "execution_count": 56
        }
      ],
      "source": [
        "y_pred_train = bnb.predict(X_train)\n",
        "y_pred_train"
      ],
      "id": "krYe9clH6-4R"
    },
    {
      "cell_type": "code",
      "execution_count": null,
      "metadata": {
        "colab": {
          "base_uri": "https://localhost:8080/"
        },
        "id": "V8Bdt23p6_JJ",
        "outputId": "6815f03b-ebb0-4d1a-e1df-90ddd0acb2b8"
      },
      "outputs": [
        {
          "output_type": "stream",
          "name": "stdout",
          "text": [
            "Training-set accuracy score: 0.8297\n"
          ]
        }
      ],
      "source": [
        "print('Training-set accuracy score: {0:0.4f}'. format(accuracy_score(y_train, y_pred_train)))"
      ],
      "id": "V8Bdt23p6_JJ"
    },
    {
      "cell_type": "code",
      "execution_count": null,
      "metadata": {
        "colab": {
          "base_uri": "https://localhost:8080/"
        },
        "id": "GqlPhb2C6_P9",
        "outputId": "8553e35b-29cc-491d-d6ff-7e3426a7935c"
      },
      "outputs": [
        {
          "output_type": "stream",
          "name": "stdout",
          "text": [
            "Training set score: 0.8297\n",
            "Test set score: 0.8608\n"
          ]
        }
      ],
      "source": [
        "# print the scores on training and test set\n",
        "print('Training set score: {:.4f}'.format(bnb.score(X_train, y_train)))\n",
        "print('Test set score: {:.4f}'.format(bnb.score(X_test, y_test)))"
      ],
      "id": "GqlPhb2C6_P9"
    },
    {
      "cell_type": "markdown",
      "metadata": {
        "id": "c_CDvePZ7mEj"
      },
      "source": [
        "Dado lo cercanos que son los valores, no hay overfitting."
      ],
      "id": "c_CDvePZ7mEj"
    },
    {
      "cell_type": "code",
      "execution_count": null,
      "metadata": {
        "colab": {
          "base_uri": "https://localhost:8080/"
        },
        "id": "Kjk3lswj7h_I",
        "outputId": "0684f891-37c4-412a-83da-a3d642683d3f"
      },
      "outputs": [
        {
          "output_type": "stream",
          "name": "stdout",
          "text": [
            "Confusion matrix\n",
            "\n",
            " [[44  5]\n",
            " [ 6 24]]\n",
            "\n",
            "True Positives(TP) =  44\n",
            "\n",
            "True Negatives(TN) =  24\n",
            "\n",
            "False Positives(FP) =  5\n",
            "\n",
            "False Negatives(FN) =  6\n"
          ]
        }
      ],
      "source": [
        "# Print the Confusion Matrix and slice it into four pieces\n",
        "from sklearn.metrics import confusion_matrix\n",
        "cm = confusion_matrix(y_test, y_pred)\n",
        "print('Confusion matrix\\n\\n', cm)\n",
        "print('\\nTrue Positives(TP) = ', cm[0,0])\n",
        "print('\\nTrue Negatives(TN) = ', cm[1,1])\n",
        "print('\\nFalse Positives(FP) = ', cm[0,1])\n",
        "print('\\nFalse Negatives(FN) = ', cm[1,0])"
      ],
      "id": "Kjk3lswj7h_I"
    },
    {
      "cell_type": "code",
      "execution_count": null,
      "metadata": {
        "colab": {
          "base_uri": "https://localhost:8080/"
        },
        "id": "Se4ukrCW7iFp",
        "outputId": "28ed8f4b-8bdb-4074-fe4a-5d637a60088f"
      },
      "outputs": [
        {
          "output_type": "execute_result",
          "data": {
            "text/plain": [
              "<Axes: >"
            ]
          },
          "metadata": {},
          "execution_count": 60
        },
        {
          "output_type": "display_data",
          "data": {
            "text/plain": [
              "<Figure size 640x480 with 2 Axes>"
            ],
            "image/png": "[encoded data removed]"
          },
          "metadata": {}
        }
      ],
      "source": [
        "# visualize confusion matrix with seaborn heatmap\n",
        "cm_matrix = pd.DataFrame(data=cm, columns=['Actual Positive:1', 'Actual Negative:0'], \n",
        "                                 index=['Predict Positive:1', 'Predict Negative:0'])\n",
        "sns.heatmap(cm_matrix, annot=True, fmt='d', cmap='YlGnBu')"
      ],
      "id": "Se4ukrCW7iFp"
    },
    {
      "cell_type": "code",
      "execution_count": null,
      "metadata": {
        "colab": {
          "base_uri": "https://localhost:8080/"
        },
        "id": "TB2LW5ga7iIt",
        "outputId": "691f805b-ec4f-4d5b-c107-e8fe78374e49"
      },
      "outputs": [
        {
          "output_type": "stream",
          "name": "stdout",
          "text": [
            "              precision    recall  f1-score   support\n",
            "\n",
            "           0       0.88      0.90      0.89        49\n",
            "           1       0.83      0.80      0.81        30\n",
            "\n",
            "    accuracy                           0.86        79\n",
            "   macro avg       0.85      0.85      0.85        79\n",
            "weighted avg       0.86      0.86      0.86        79\n",
            "\n"
          ]
        }
      ],
      "source": [
        "#Metricas de clasificación\n",
        "from sklearn.metrics import classification_report\n",
        "print(classification_report(y_test, y_pred))\n",
        "TP = cm[0,0]\n",
        "TN = cm[1,1]\n",
        "FP = cm[0,1]\n",
        "FN = cm[1,0]"
      ],
      "id": "TB2LW5ga7iIt"
    },
    {
      "cell_type": "code",
      "execution_count": null,
      "metadata": {
        "colab": {
          "base_uri": "https://localhost:8080/"
        },
        "id": "-DuCBJTI7iLW",
        "outputId": "1f40b2d1-6d2c-41de-ad6e-91f023749a63"
      },
      "outputs": [
        {
          "output_type": "stream",
          "name": "stdout",
          "text": [
            "Classification accuracy : 0.8608\n"
          ]
        }
      ],
      "source": [
        "# accuracy de clasificación \n",
        "classification_accuracy = (TP + TN) / float(TP + TN + FP + FN)\n",
        "print('Classification accuracy : {0:0.4f}'.format(classification_accuracy))"
      ],
      "id": "-DuCBJTI7iLW"
    },
    {
      "cell_type": "code",
      "execution_count": null,
      "metadata": {
        "colab": {
          "base_uri": "https://localhost:8080/"
        },
        "id": "aifVsoto7ich",
        "outputId": "44d0f810-2518-492a-c02e-4e993869cc2b"
      },
      "outputs": [
        {
          "output_type": "stream",
          "name": "stdout",
          "text": [
            "Classification error : 0.1392\n"
          ]
        }
      ],
      "source": [
        "# Error de clasificación \n",
        "classification_error = (FP + FN) / float(TP + TN + FP + FN)\n",
        "print('Classification error : {0:0.4f}'.format(classification_error))"
      ],
      "id": "aifVsoto7ich"
    },
    {
      "cell_type": "code",
      "execution_count": null,
      "metadata": {
        "colab": {
          "base_uri": "https://localhost:8080/"
        },
        "id": "Li7IMW_-8JDE",
        "outputId": "594c0049-34c4-4548-ff54-1e6574f3ddc8"
      },
      "outputs": [
        {
          "output_type": "stream",
          "name": "stdout",
          "text": [
            "Precision : 0.8980\n"
          ]
        }
      ],
      "source": [
        "# Precisión \n",
        "precision = TP / float(TP + FP)\n",
        "print('Precision : {0:0.4f}'.format(precision))"
      ],
      "id": "Li7IMW_-8JDE"
    },
    {
      "cell_type": "code",
      "execution_count": null,
      "metadata": {
        "colab": {
          "base_uri": "https://localhost:8080/"
        },
        "id": "JLf37jAP8JLJ",
        "outputId": "efc3335e-17b4-448d-a9d9-f37a9cf8bdce"
      },
      "outputs": [
        {
          "output_type": "stream",
          "name": "stdout",
          "text": [
            "Recall o Sensitivity : 0.8800\n"
          ]
        }
      ],
      "source": [
        "#Sensitivity\n",
        "recall = TP / float(TP + FN)\n",
        "print('Recall o Sensitivity : {0:0.4f}'.format(recall))"
      ],
      "id": "JLf37jAP8JLJ"
    },
    {
      "cell_type": "code",
      "execution_count": null,
      "metadata": {
        "colab": {
          "base_uri": "https://localhost:8080/"
        },
        "id": "jS9sPtpG8JQe",
        "outputId": "1aebcb62-26a7-4377-f0ec-f5532be09cb3"
      },
      "outputs": [
        {
          "output_type": "stream",
          "name": "stdout",
          "text": [
            "False Positive Rate : 0.1724\n"
          ]
        }
      ],
      "source": [
        "#False positive rate\n",
        "false_positive_rate = FP / float(FP + TN)\n",
        "print('False Positive Rate : {0:0.4f}'.format(false_positive_rate))"
      ],
      "id": "jS9sPtpG8JQe"
    },
    {
      "cell_type": "code",
      "execution_count": null,
      "metadata": {
        "colab": {
          "base_uri": "https://localhost:8080/"
        },
        "id": "8Wb3uFcv8Jh8",
        "outputId": "4f393a5a-ce1f-43df-df8c-0f56af4e02d1"
      },
      "outputs": [
        {
          "output_type": "stream",
          "name": "stdout",
          "text": [
            "Specificity : 0.8276\n"
          ]
        }
      ],
      "source": [
        "specificity = TN / (TN + FP)\n",
        "print('Specificity : {0:0.4f}'.format(specificity))"
      ],
      "id": "8Wb3uFcv8Jh8"
    },
    {
      "cell_type": "code",
      "execution_count": null,
      "metadata": {
        "colab": {
          "base_uri": "https://localhost:8080/"
        },
        "id": "e43oP6-u8ZC_",
        "outputId": "82c8d2c1-a12b-4404-bfdd-4c83b6b300a8"
      },
      "outputs": [
        {
          "output_type": "display_data",
          "data": {
            "text/plain": [
              "<Figure size 600x400 with 1 Axes>"
            ],
            "image/png": "[encoded data removed]"
          },
          "metadata": {}
        }
      ],
      "source": [
        "# plot ROC Curve\n",
        "y_pred1 = bnb.predict_proba(X_test)[:, 1]\n",
        "from sklearn.metrics import roc_curve\n",
        "fpr, tpr, thresholds = roc_curve(y_test, y_pred1)\n",
        "plt.figure(figsize=(6,4))\n",
        "plt.plot(fpr, tpr, linewidth=2)\n",
        "plt.plot([0,1], [0,1], 'k--' )\n",
        "plt.rcParams['font.size'] = 12\n",
        "plt.title('ROC curve for Bernoulli Naive Bayes Classifier for Predicting heart attacks')\n",
        "plt.xlabel('False Positive Rate (1 - Specificity)')\n",
        "plt.ylabel('True Positive Rate (Sensitivity)')\n",
        "plt.show()"
      ],
      "id": "e43oP6-u8ZC_"
    },
    {
      "cell_type": "code",
      "execution_count": null,
      "metadata": {
        "colab": {
          "base_uri": "https://localhost:8080/"
        },
        "id": "a7aMTAzl8mZf",
        "outputId": "4d770d17-aae3-464e-87f3-be5de2500a81"
      },
      "outputs": [
        {
          "output_type": "stream",
          "name": "stdout",
          "text": [
            "ROC AUC : 0.8854\n"
          ]
        }
      ],
      "source": [
        "#AUC\n",
        "from sklearn.metrics import roc_auc_score\n",
        "auc_NB = roc_auc_score(y_test, y_pred1)\n",
        "print('ROC AUC : {:.4f}'.format(auc_NB))"
      ],
      "id": "a7aMTAzl8mZf"
    },
    {
      "cell_type": "markdown",
      "metadata": {
        "id": "h7-idsRG499d"
      },
      "source": [
        "### LDA: Linear Discriminant Analysis"
      ],
      "id": "h7-idsRG499d"
    },
    {
      "cell_type": "code",
      "execution_count": null,
      "metadata": {
        "colab": {
          "base_uri": "https://localhost:8080/"
        },
        "id": "WyEKSGOS5Eap",
        "outputId": "c94683a2-956e-4671-80d1-ecc461b42b32"
      },
      "outputs": [
        {
          "output_type": "execute_result",
          "data": {
            "text/plain": [
              "LinearDiscriminantAnalysis()"
            ],
            "text/html": [
              "<style>#sk-container-id-3 {color: black;background-color: white;}#sk-container-id-3 pre{padding: 0;}#sk-container-id-3 div.sk-toggleable {background-color: white;}#sk-container-id-3 label.sk-toggleable__label {cursor: pointer;display: block;width: 100%;margin-bottom: 0;padding: 0.3em;box-sizing: border-box;text-align: center;}#sk-container-id-3 label.sk-toggleable__label-arrow:before {content: \"▸\";float: left;margin-right: 0.25em;color: #696969;}#sk-container-id-3 label.sk-toggleable__label-arrow:hover:before {color: black;}#sk-container-id-3 div.sk-estimator:hover label.sk-toggleable__label-arrow:before {color: black;}#sk-container-id-3 div.sk-toggleable__content {max-height: 0;max-width: 0;overflow: hidden;text-align: left;background-color: #f0f8ff;}#sk-container-id-3 div.sk-toggleable__content pre {margin: 0.2em;color: black;border-radius: 0.25em;background-color: #f0f8ff;}#sk-container-id-3 input.sk-toggleable__control:checked~div.sk-toggleable__content {max-height: 200px;max-width: 100%;overflow: auto;}#sk-container-id-3 input.sk-toggleable__control:checked~label.sk-toggleable__label-arrow:before {content: \"▾\";}#sk-container-id-3 div.sk-estimator input.sk-toggleable__control:checked~label.sk-toggleable__label {background-color: #d4ebff;}#sk-container-id-3 div.sk-label input.sk-toggleable__control:checked~label.sk-toggleable__label {background-color: #d4ebff;}#sk-container-id-3 input.sk-hidden--visually {border: 0;clip: rect(1px 1px 1px 1px);clip: rect(1px, 1px, 1px, 1px);height: 1px;margin: -1px;overflow: hidden;padding: 0;position: absolute;width: 1px;}#sk-container-id-3 div.sk-estimator {font-family: monospace;background-color: #f0f8ff;border: 1px dotted black;border-radius: 0.25em;box-sizing: border-box;margin-bottom: 0.5em;}#sk-container-id-3 div.sk-estimator:hover {background-color: #d4ebff;}#sk-container-id-3 div.sk-parallel-item::after {content: \"\";width: 100%;border-bottom: 1px solid gray;flex-grow: 1;}#sk-container-id-3 div.sk-label:hover label.sk-toggleable__label {background-color: #d4ebff;}#sk-container-id-3 div.sk-serial::before {content: \"\";position: absolute;border-left: 1px solid gray;box-sizing: border-box;top: 0;bottom: 0;left: 50%;z-index: 0;}#sk-container-id-3 div.sk-serial {display: flex;flex-direction: column;align-items: center;background-color: white;padding-right: 0.2em;padding-left: 0.2em;position: relative;}#sk-container-id-3 div.sk-item {position: relative;z-index: 1;}#sk-container-id-3 div.sk-parallel {display: flex;align-items: stretch;justify-content: center;background-color: white;position: relative;}#sk-container-id-3 div.sk-item::before, #sk-container-id-3 div.sk-parallel-item::before {content: \"\";position: absolute;border-left: 1px solid gray;box-sizing: border-box;top: 0;bottom: 0;left: 50%;z-index: -1;}#sk-container-id-3 div.sk-parallel-item {display: flex;flex-direction: column;z-index: 1;position: relative;background-color: white;}#sk-container-id-3 div.sk-parallel-item:first-child::after {align-self: flex-end;width: 50%;}#sk-container-id-3 div.sk-parallel-item:last-child::after {align-self: flex-start;width: 50%;}#sk-container-id-3 div.sk-parallel-item:only-child::after {width: 0;}#sk-container-id-3 div.sk-dashed-wrapped {border: 1px dashed gray;margin: 0 0.4em 0.5em 0.4em;box-sizing: border-box;padding-bottom: 0.4em;background-color: white;}#sk-container-id-3 div.sk-label label {font-family: monospace;font-weight: bold;display: inline-block;line-height: 1.2em;}#sk-container-id-3 div.sk-label-container {text-align: center;}#sk-container-id-3 div.sk-container {/* jupyter's `normalize.less` sets `[hidden] { display: none; }` but bootstrap.min.css set `[hidden] { display: none !important; }` so we also need the `!important` here to be able to override the default hidden behavior on the sphinx rendered scikit-learn.org. See: https://github.com/scikit-learn/scikit-learn/issues/21755 */display: inline-block !important;position: relative;}#sk-container-id-3 div.sk-text-repr-fallback {display: none;}</style><div id=\"sk-container-id-3\" class=\"sk-top-container\"><div class=\"sk-text-repr-fallback\"><pre>LinearDiscriminantAnalysis()</pre><b>In a Jupyter environment, please rerun this cell to show the HTML representation or trust the notebook. <br />On GitHub, the HTML representation is unable to render, please try loading this page with nbviewer.org.</b></div><div class=\"sk-container\" hidden><div class=\"sk-item\"><div class=\"sk-estimator sk-toggleable\"><input class=\"sk-toggleable__control sk-hidden--visually\" id=\"sk-estimator-id-3\" type=\"checkbox\" checked><label for=\"sk-estimator-id-3\" class=\"sk-toggleable__label sk-toggleable__label-arrow\">LinearDiscriminantAnalysis</label><div class=\"sk-toggleable__content\"><pre>LinearDiscriminantAnalysis()</pre></div></div></div></div></div>"
            ]
          },
          "metadata": {},
          "execution_count": 70
        }
      ],
      "source": [
        "# Entrenamiento del modelo LDA\n",
        "import numpy as np\n",
        "from sklearn.discriminant_analysis import LinearDiscriminantAnalysis\n",
        "lda = LinearDiscriminantAnalysis()\n",
        "lda.fit(X_train, y_train)"
      ],
      "id": "WyEKSGOS5Eap"
    },
    {
      "cell_type": "code",
      "execution_count": null,
      "metadata": {
        "colab": {
          "base_uri": "https://localhost:8080/"
        },
        "id": "15Yg7Ug06XCp",
        "outputId": "5b7d0be1-013e-45ac-ea20-25b107becacd"
      },
      "outputs": [
        {
          "output_type": "execute_result",
          "data": {
            "text/plain": [
              "array([0, 0, 1, 0, 1, 1, 0, 0, 0, 0, 1, 0, 1, 0, 0, 0, 1, 1, 0, 0, 1, 0,\n",
              "       0, 1, 0, 1, 0, 1, 1, 0, 0, 0, 0, 0, 0, 0, 0, 0, 1, 0, 0, 0, 1, 0,\n",
              "       0, 1, 0, 1, 1, 0, 0, 0, 0, 1, 0, 0, 1, 0, 0, 0, 0, 0, 1, 0, 0, 1,\n",
              "       1, 1, 1, 0, 1, 0, 1, 1, 0, 0, 0, 1, 0])"
            ]
          },
          "metadata": {},
          "execution_count": 71
        }
      ],
      "source": [
        "y_pred = lda.predict(X_test)\n",
        "y_pred"
      ],
      "id": "15Yg7Ug06XCp"
    },
    {
      "cell_type": "code",
      "execution_count": null,
      "metadata": {
        "colab": {
          "base_uri": "https://localhost:8080/"
        },
        "id": "GUPQQw856XKF",
        "outputId": "910bf569-6759-4f21-94a2-dc502d891734"
      },
      "outputs": [
        {
          "output_type": "stream",
          "name": "stdout",
          "text": [
            "Precisión: 0.8481012658227848\n"
          ]
        }
      ],
      "source": [
        "from sklearn.metrics import accuracy_score\n",
        "# Calculamos la precisión del modelo\n",
        "accuracy = accuracy_score(y_test, y_pred)\n",
        "print(\"Precisión:\", accuracy)"
      ],
      "id": "GUPQQw856XKF"
    },
    {
      "cell_type": "code",
      "execution_count": null,
      "metadata": {
        "colab": {
          "base_uri": "https://localhost:8080/"
        },
        "id": "LfUAUOUj6XN2",
        "outputId": "3f6293e5-1a19-4b17-b639-56b67ff73df1"
      },
      "outputs": [
        {
          "output_type": "execute_result",
          "data": {
            "text/plain": [
              "array([0, 0, 0, 0, 1, 0, 0, 0, 0, 0, 0, 1, 1, 0, 0, 0, 0, 0, 0, 0, 1, 0,\n",
              "       0, 1, 0, 0, 1, 0, 0, 1, 0, 1, 0, 1, 0, 0, 0, 0, 1, 0, 1, 0, 0, 0,\n",
              "       0, 1, 0, 1, 0, 1, 0, 0, 1, 1, 0, 0, 0, 0, 0, 0, 0, 1, 0, 0, 1, 1,\n",
              "       1, 0, 1, 0, 0, 0, 0, 0, 0, 0, 0, 1, 0, 0, 1, 1, 0, 0, 0, 0, 0, 0,\n",
              "       0, 1, 0, 1, 0, 1, 1, 1, 0, 1, 1, 0, 0, 0, 0, 0, 0, 0, 0, 0, 1, 0,\n",
              "       0, 0, 0, 0, 0, 0, 0, 0, 1, 0, 0, 0, 0, 0, 0, 1, 1, 0, 1, 0, 1, 0,\n",
              "       0, 1, 1, 0, 1, 0, 1, 0, 1, 1, 1, 0, 0, 0, 0, 1, 1, 1, 0, 1, 1, 0,\n",
              "       0, 0, 0, 0, 1, 1, 0, 0, 0, 0, 0, 0, 0, 1, 0, 0, 0, 1, 0, 1, 0, 0,\n",
              "       1, 1, 1, 1, 0, 0])"
            ]
          },
          "metadata": {},
          "execution_count": 73
        }
      ],
      "source": [
        "y_pred_train = lda.predict(X_train)\n",
        "y_pred_train"
      ],
      "id": "LfUAUOUj6XN2"
    },
    {
      "cell_type": "code",
      "execution_count": null,
      "metadata": {
        "colab": {
          "base_uri": "https://localhost:8080/"
        },
        "id": "-yH0a2b66XTg",
        "outputId": "a0c3d270-6ab2-4d32-9565-f15f83500134"
      },
      "outputs": [
        {
          "output_type": "stream",
          "name": "stdout",
          "text": [
            "Training-set accuracy score: 0.8242\n"
          ]
        }
      ],
      "source": [
        "print('Training-set accuracy score: {0:0.4f}'. format(accuracy_score(y_train, y_pred_train)))"
      ],
      "id": "-yH0a2b66XTg"
    },
    {
      "cell_type": "code",
      "execution_count": null,
      "metadata": {
        "colab": {
          "base_uri": "https://localhost:8080/"
        },
        "id": "LwftaBc14zCC",
        "outputId": "7a2fae88-1861-4901-c288-04413b3dec48"
      },
      "outputs": [
        {
          "output_type": "stream",
          "name": "stdout",
          "text": [
            "Training set score: 0.8242\n",
            "Test set score: 0.8481\n"
          ]
        }
      ],
      "source": [
        "# print the scores on training and test set\n",
        "print('Training set score: {:.4f}'.format(lda.score(X_train, y_train)))\n",
        "print('Test set score: {:.4f}'.format(lda.score(X_test, y_test)))"
      ],
      "id": "LwftaBc14zCC"
    },
    {
      "cell_type": "code",
      "execution_count": null,
      "metadata": {
        "colab": {
          "base_uri": "https://localhost:8080/"
        },
        "id": "XPFhGphQ4zGr",
        "outputId": "6697a1df-6764-4600-8f83-3199d4b59311"
      },
      "outputs": [
        {
          "output_type": "stream",
          "name": "stdout",
          "text": [
            "Confusion matrix\n",
            "\n",
            " [[44  5]\n",
            " [ 7 23]]\n",
            "\n",
            "True Positives(TP) =  44\n",
            "\n",
            "True Negatives(TN) =  23\n",
            "\n",
            "False Positives(FP) =  5\n",
            "\n",
            "False Negatives(FN) =  7\n"
          ]
        }
      ],
      "source": [
        "# Print the Confusion Matrix and slice it into four pieces\n",
        "from sklearn.metrics import confusion_matrix\n",
        "cm = confusion_matrix(y_test, y_pred)\n",
        "print('Confusion matrix\\n\\n', cm)\n",
        "print('\\nTrue Positives(TP) = ', cm[0,0])\n",
        "print('\\nTrue Negatives(TN) = ', cm[1,1])\n",
        "print('\\nFalse Positives(FP) = ', cm[0,1])\n",
        "print('\\nFalse Negatives(FN) = ', cm[1,0])"
      ],
      "id": "XPFhGphQ4zGr"
    },
    {
      "cell_type": "code",
      "execution_count": null,
      "metadata": {
        "colab": {
          "base_uri": "https://localhost:8080/"
        },
        "id": "JPGR72qC4zIx",
        "outputId": "7ffa2216-ca62-4e40-9fef-2164dfe40559"
      },
      "outputs": [
        {
          "output_type": "execute_result",
          "data": {
            "text/plain": [
              "<Axes: >"
            ]
          },
          "metadata": {},
          "execution_count": 77
        },
        {
          "output_type": "display_data",
          "data": {
            "text/plain": [
              "<Figure size 640x480 with 2 Axes>"
            ],
            "image/png": "[encoded data removed]"
          },
          "metadata": {}
        }
      ],
      "source": [
        "# visualize confusion matrix with seaborn heatmap\n",
        "cm_matrix = pd.DataFrame(data=cm, columns=['Actual Positive:1', 'Actual Negative:0'], \n",
        "                                 index=['Predict Positive:1', 'Predict Negative:0'])\n",
        "sns.heatmap(cm_matrix, annot=True, fmt='d', cmap='YlGnBu')"
      ],
      "id": "JPGR72qC4zIx"
    },
    {
      "cell_type": "code",
      "execution_count": null,
      "metadata": {
        "colab": {
          "base_uri": "https://localhost:8080/"
        },
        "id": "hzfMcsAV48mi",
        "outputId": "e0dbec4b-5e86-4ef5-8b58-9a713306a612"
      },
      "outputs": [
        {
          "output_type": "stream",
          "name": "stdout",
          "text": [
            "              precision    recall  f1-score   support\n",
            "\n",
            "           0       0.86      0.90      0.88        49\n",
            "           1       0.82      0.77      0.79        30\n",
            "\n",
            "    accuracy                           0.85        79\n",
            "   macro avg       0.84      0.83      0.84        79\n",
            "weighted avg       0.85      0.85      0.85        79\n",
            "\n"
          ]
        }
      ],
      "source": [
        "from sklearn.metrics import classification_report\n",
        "print(classification_report(y_test, y_pred))"
      ],
      "id": "hzfMcsAV48mi"
    },
    {
      "cell_type": "code",
      "execution_count": null,
      "metadata": {
        "colab": {
          "base_uri": "https://localhost:8080/"
        },
        "id": "qwkMRNRB48pN",
        "outputId": "a03b3e34-c617-4988-9ad3-08c49cda931c"
      },
      "outputs": [
        {
          "output_type": "stream",
          "name": "stdout",
          "text": [
            "Classification accuracy : 0.8608\n"
          ]
        }
      ],
      "source": [
        "# accuracy de clasificación \n",
        "classification_accuracy = (TP + TN) / float(TP + TN + FP + FN)\n",
        "print('Classification accuracy : {0:0.4f}'.format(classification_accuracy))"
      ],
      "id": "qwkMRNRB48pN"
    },
    {
      "cell_type": "code",
      "execution_count": null,
      "metadata": {
        "colab": {
          "base_uri": "https://localhost:8080/"
        },
        "id": "pecRQYK05Kld",
        "outputId": "0c13be16-2fbe-42f8-f7de-225017e30882"
      },
      "outputs": [
        {
          "output_type": "stream",
          "name": "stdout",
          "text": [
            "Classification error : 0.1392\n"
          ]
        }
      ],
      "source": [
        "# Error de clasificación \n",
        "classification_error = (FP + FN) / float(TP + TN + FP + FN)\n",
        "print('Classification error : {0:0.4f}'.format(classification_error))"
      ],
      "id": "pecRQYK05Kld"
    },
    {
      "cell_type": "code",
      "execution_count": null,
      "metadata": {
        "colab": {
          "base_uri": "https://localhost:8080/"
        },
        "id": "lvkmUCuk5KtA",
        "outputId": "2d54bdc1-312b-4bdc-8964-eb4aadc259a1"
      },
      "outputs": [
        {
          "output_type": "stream",
          "name": "stdout",
          "text": [
            "Recall o Sensitivity : 0.8800\n"
          ]
        }
      ],
      "source": [
        "#Sensitivity\n",
        "recall = TP / float(TP + FN)\n",
        "print('Recall o Sensitivity : {0:0.4f}'.format(recall))"
      ],
      "id": "lvkmUCuk5KtA"
    },
    {
      "cell_type": "code",
      "execution_count": null,
      "metadata": {
        "colab": {
          "base_uri": "https://localhost:8080/"
        },
        "id": "-luFsabl5Ku7",
        "outputId": "2aeb80b9-b221-42b6-9525-d5a7755dea84"
      },
      "outputs": [
        {
          "output_type": "stream",
          "name": "stdout",
          "text": [
            "Precision : 0.8980\n"
          ]
        }
      ],
      "source": [
        "# Precisión \n",
        "precision = TP / float(TP + FP)\n",
        "print('Precision : {0:0.4f}'.format(precision))"
      ],
      "id": "-luFsabl5Ku7"
    },
    {
      "cell_type": "code",
      "execution_count": null,
      "metadata": {
        "colab": {
          "base_uri": "https://localhost:8080/"
        },
        "id": "TQfoUgZB48sW",
        "outputId": "aebfe8bd-c270-4453-cac0-daeca093dbee"
      },
      "outputs": [
        {
          "output_type": "stream",
          "name": "stdout",
          "text": [
            "False Positive Rate : 0.1724\n"
          ]
        }
      ],
      "source": [
        "#False positive rate\n",
        "false_positive_rate = FP / float(FP + TN)\n",
        "print('False Positive Rate : {0:0.4f}'.format(false_positive_rate))"
      ],
      "id": "TQfoUgZB48sW"
    },
    {
      "cell_type": "code",
      "execution_count": null,
      "metadata": {
        "colab": {
          "base_uri": "https://localhost:8080/"
        },
        "id": "kl4f1Q--5Wz8",
        "outputId": "ae21b021-6e19-4d1f-fae8-9325853f04f9"
      },
      "outputs": [
        {
          "output_type": "stream",
          "name": "stdout",
          "text": [
            "Specificity : 0.8276\n"
          ]
        }
      ],
      "source": [
        "specificity = TN / (TN + FP)\n",
        "print('Specificity : {0:0.4f}'.format(specificity))"
      ],
      "id": "kl4f1Q--5Wz8"
    },
    {
      "cell_type": "code",
      "execution_count": null,
      "metadata": {
        "colab": {
          "base_uri": "https://localhost:8080/"
        },
        "id": "UNTH3UMa5W4N",
        "outputId": "2eccd7b8-f79c-4cf7-ca39-b1b1b69dac5f"
      },
      "outputs": [
        {
          "output_type": "display_data",
          "data": {
            "text/plain": [
              "<Figure size 600x400 with 1 Axes>"
            ],
            "image/png": "[encoded data removed]"
          },
          "metadata": {}
        }
      ],
      "source": [
        "# plot ROC Curve\n",
        "y_pred1 = lda.predict_proba(X_test)[:, 1]\n",
        "from sklearn.metrics import roc_curve\n",
        "fpr, tpr, thresholds = roc_curve(y_test, y_pred1)\n",
        "plt.figure(figsize=(6,4))\n",
        "plt.plot(fpr, tpr, linewidth=2)\n",
        "plt.plot([0,1], [0,1], 'k--' )\n",
        "plt.rcParams['font.size'] = 12\n",
        "plt.title('ROC curve LDA')\n",
        "plt.xlabel('False Positive Rate (1 - Specificity)')\n",
        "plt.ylabel('True Positive Rate (Sensitivity)')\n",
        "plt.show()"
      ],
      "id": "UNTH3UMa5W4N"
    },
    {
      "cell_type": "code",
      "execution_count": null,
      "metadata": {
        "id": "b3JU5lp05W6g",
        "colab": {
          "base_uri": "https://localhost:8080/"
        },
        "outputId": "ba808303-4a6f-4dad-beaa-bc29f8846e14"
      },
      "outputs": [
        {
          "output_type": "execute_result",
          "data": {
            "text/plain": [
              "0.8625850340136054"
            ]
          },
          "metadata": {},
          "execution_count": 86
        }
      ],
      "source": [
        "#auc\n",
        "auc_lda = roc_auc_score(y_test, y_pred1)\n",
        "auc_lda"
      ],
      "id": "b3JU5lp05W6g"
    },
    {
      "cell_type": "markdown",
      "metadata": {
        "id": "DS0ZB4AI5BAZ"
      },
      "source": [
        "### QDA: Quadratic Discriminant Analysis"
      ],
      "id": "DS0ZB4AI5BAZ"
    },
    {
      "cell_type": "code",
      "execution_count": null,
      "metadata": {
        "id": "agXAKQRzAA4D"
      },
      "outputs": [],
      "source": [
        "#Separar variable objetivo\n",
        "y = df['attack']\n",
        "X = df.drop(['attack'], axis=1)"
      ],
      "id": "agXAKQRzAA4D"
    },
    {
      "cell_type": "code",
      "execution_count": null,
      "metadata": {
        "id": "Sv0DXck9ABGA"
      },
      "outputs": [],
      "source": [
        "#Separar X e y en test y entrenamiento\n",
        "X_train, X_test, y_train, y_test = train_test_split(X, y, test_size = 0.3, random_state = 0)"
      ],
      "id": "Sv0DXck9ABGA"
    },
    {
      "cell_type": "code",
      "execution_count": null,
      "metadata": {
        "colab": {
          "base_uri": "https://localhost:8080/"
        },
        "id": "9ncus5c2ABUF",
        "outputId": "3b70d116-76ac-4abc-d3f5-861971b41f80"
      },
      "outputs": [
        {
          "output_type": "execute_result",
          "data": {
            "text/plain": [
              "((182, 10), (79, 10))"
            ]
          },
          "metadata": {},
          "execution_count": 89
        }
      ],
      "source": [
        "#chequear dimensión de X_train y X_test\n",
        "X_train.shape, X_test.shape"
      ],
      "id": "9ncus5c2ABUF"
    },
    {
      "cell_type": "code",
      "execution_count": null,
      "metadata": {
        "colab": {
          "base_uri": "https://localhost:8080/"
        },
        "id": "qMTMvWQsABgJ",
        "outputId": "656542a4-8119-41f5-b6be-b15886c6e3e9"
      },
      "outputs": [
        {
          "output_type": "execute_result",
          "data": {
            "text/plain": [
              "['trestbps', 'chol', 'fbs', 'restecg', 'thalach', 'exang']"
            ]
          },
          "metadata": {},
          "execution_count": 90
        }
      ],
      "source": [
        "# Variables categóricas\n",
        "categorical = [col for col in X_train.columns if X_train[col].dtypes == 'O']\n",
        "categorical"
      ],
      "id": "qMTMvWQsABgJ"
    },
    {
      "cell_type": "code",
      "execution_count": null,
      "metadata": {
        "colab": {
          "base_uri": "https://localhost:8080/"
        },
        "id": "UiXLyE_sABq5",
        "outputId": "d0cb47ec-5990-452e-82ad-fa837ebdd714"
      },
      "outputs": [
        {
          "output_type": "execute_result",
          "data": {
            "text/plain": [
              "['age', 'sex', 'cp', 'oldpeak']"
            ]
          },
          "metadata": {},
          "execution_count": 91
        }
      ],
      "source": [
        "# Variables numéricas\n",
        "numerical = [col for col in X_train.columns if X_train[col].dtypes != 'O']\n",
        "numerical"
      ],
      "id": "UiXLyE_sABq5"
    },
    {
      "cell_type": "code",
      "execution_count": null,
      "metadata": {
        "id": "NdFD1oGZ_dVd"
      },
      "outputs": [],
      "source": [
        "cols = X_train.columns"
      ],
      "id": "NdFD1oGZ_dVd"
    },
    {
      "cell_type": "code",
      "execution_count": null,
      "metadata": {
        "id": "rBjcQ4sq_mov"
      },
      "outputs": [],
      "source": [
        "#Escalar modelo\n",
        "scaler = RobustScaler()\n",
        "X_train = scaler.fit_transform(X_train)\n",
        "X_test = scaler.transform(X_test)"
      ],
      "id": "rBjcQ4sq_mov"
    },
    {
      "cell_type": "code",
      "execution_count": null,
      "metadata": {
        "id": "DipFo530_m1v"
      },
      "outputs": [],
      "source": [
        "X_train = pd.DataFrame(X_train, columns=[cols])"
      ],
      "id": "DipFo530_m1v"
    },
    {
      "cell_type": "code",
      "execution_count": null,
      "metadata": {
        "id": "_e54o9Zw_nEF"
      },
      "outputs": [],
      "source": [
        "X_test = pd.DataFrame(X_test, columns=[cols])"
      ],
      "id": "_e54o9Zw_nEF"
    },
    {
      "cell_type": "code",
      "execution_count": null,
      "metadata": {
        "id": "Ns4sIdQH5DV6"
      },
      "outputs": [],
      "source": [
        "# Creamos un clasificador de análisis discriminante cuadrático (QDA)\n",
        "qda = QuadraticDiscriminantAnalysis()\n",
        "\n",
        "# Ajustamos el clasificador con los datos de entrenamiento\n",
        "qda.fit(X_train, y_train)\n",
        "\n",
        "# Realizamos predicciones en el conjunto de prueba\n",
        "y_pred = qda.predict(X_test)"
      ],
      "id": "Ns4sIdQH5DV6"
    },
    {
      "cell_type": "code",
      "execution_count": null,
      "metadata": {
        "colab": {
          "base_uri": "https://localhost:8080/"
        },
        "id": "koLuB3mb5sXy",
        "outputId": "eb69f22a-2a01-490e-96d3-8e85eef1b48e"
      },
      "outputs": [
        {
          "output_type": "stream",
          "name": "stdout",
          "text": [
            "Precisión: 0.810126582278481\n"
          ]
        }
      ],
      "source": [
        "# Calculamos la precisión del modelo\n",
        "accuracy = accuracy_score(y_test, y_pred)\n",
        "print(\"Precisión:\", accuracy)"
      ],
      "id": "koLuB3mb5sXy"
    },
    {
      "cell_type": "code",
      "execution_count": null,
      "metadata": {
        "colab": {
          "base_uri": "https://localhost:8080/",
          "height": 481
        },
        "id": "6jtTgYvH5sb8",
        "outputId": "2e621125-c2f8-48ec-a99a-d97de436d1c1"
      },
      "outputs": [
        {
          "output_type": "display_data",
          "data": {
            "text/plain": [
              "<Figure size 640x480 with 2 Axes>"
            ],
            "image/png": "[encoded data removed]"
          },
          "metadata": {}
        }
      ],
      "source": [
        "# Calculamos y mostramos la matriz de confusión\n",
        "cm = confusion_matrix(y_test, y_pred)\n",
        "sns.heatmap(cm, annot=True, fmt=\"d\", cmap=\"Blues\")\n",
        "plt.title(\"Matriz de Confusión\")\n",
        "plt.xlabel(\"Etiqueta Predicha\")\n",
        "plt.ylabel(\"Etiqueta Real\")\n",
        "plt.show()"
      ],
      "id": "6jtTgYvH5sb8"
    },
    {
      "cell_type": "code",
      "execution_count": null,
      "metadata": {
        "id": "RlBCTaCs5seC"
      },
      "outputs": [],
      "source": [
        "#Calculamos las probabilidades de predicción de cada clase utilizando el método predict_proba del clasificador QDA:\n",
        "probas = qda.predict_proba(X_test)"
      ],
      "id": "RlBCTaCs5seC"
    },
    {
      "cell_type": "code",
      "execution_count": null,
      "metadata": {
        "id": "6hKav6q650kh"
      },
      "outputs": [],
      "source": [
        "fpr, tpr, thresholds = roc_curve(y_test, probas[:, 1])"
      ],
      "id": "6hKav6q650kh"
    },
    {
      "cell_type": "code",
      "execution_count": null,
      "metadata": {
        "colab": {
          "base_uri": "https://localhost:8080/"
        },
        "id": "QYaP3HMQ50u-",
        "outputId": "28bfa037-a324-44f9-f1a1-dfb76617cc2f"
      },
      "outputs": [
        {
          "output_type": "stream",
          "name": "stdout",
          "text": [
            "AUC: 0.8496598639455782\n"
          ]
        }
      ],
      "source": [
        "#Calculamos el valor de AUC\n",
        "auc_qda = roc_auc_score(y_test, probas[:, 1])\n",
        "print(\"AUC:\", auc_qda)"
      ],
      "id": "QYaP3HMQ50u-"
    },
    {
      "cell_type": "code",
      "execution_count": null,
      "metadata": {
        "colab": {
          "base_uri": "https://localhost:8080/",
          "height": 481
        },
        "id": "QNEYWifg50rT",
        "outputId": "d824572d-a93a-45f2-e15c-db06f0280f24"
      },
      "outputs": [
        {
          "output_type": "display_data",
          "data": {
            "text/plain": [
              "<Figure size 640x480 with 1 Axes>"
            ],
            "image/png": "[encoded data removed]"
          },
          "metadata": {}
        }
      ],
      "source": [
        "#Realizamos la gráfica de la curva ROC\n",
        "plt.plot(fpr, tpr, label='ROC curve (AUC = %0.2f)' % auc_qda)\n",
        "plt.plot([0, 1], [0, 1], 'k--')\n",
        "plt.xlim([0.0, 1.0])\n",
        "plt.ylim([0.0, 1.0])\n",
        "plt.xlabel('False Positive Rate')\n",
        "plt.ylabel('True Positive Rate')\n",
        "plt.title('Receiver Operating Characteristic')\n",
        "plt.legend(loc=\"lower right\")\n",
        "plt.show()"
      ],
      "id": "QNEYWifg50rT"
    },
    {
      "cell_type": "markdown",
      "metadata": {
        "id": "HlBzUkcu6B3P"
      },
      "source": [
        "### Conclusiones"
      ],
      "id": "HlBzUkcu6B3P"
    },
    {
      "cell_type": "code",
      "source": [
        "print('AUC Regresión logistica: {:.4f}'.format(auc_log))\n",
        "print('AUC SVM: {:.4f}'.format(auc_svm))\n",
        "print('AUC Naive Bayes: {:.4f}'.format(auc_NB))\n",
        "print('AUC LDA: {:.4f}'.format(auc_lda))\n",
        "print('AUC QDA: {:.4f}'.format(auc_qda))"
      ],
      "metadata": {
        "colab": {
          "base_uri": "https://localhost:8080/"
        },
        "id": "ru_jLc6281iB",
        "outputId": "62430998-977a-4c29-f5dc-6d6fa3a89639"
      },
      "id": "ru_jLc6281iB",
      "execution_count": null,
      "outputs": [
        {
          "output_type": "stream",
          "name": "stdout",
          "text": [
            "AUC Regresión logistica: 0.9184\n",
            "AUC SVM: 0.7231\n",
            "AUC Naive Bayes: 0.8854\n",
            "AUC LDA: 0.8626\n",
            "AUC QDA: 0.8497\n"
          ]
        }
      ]
    },
    {
      "cell_type": "markdown",
      "source": [
        "Dados los diferentes AUC de cada modelo, podemos concluir que el mejor modelo para este conjunto de datos es el modelo de regresión logistica con un AUC de 0.9184."
      ],
      "metadata": {
        "id": "DyoOTnzFEalg"
      },
      "id": "DyoOTnzFEalg"
    }
  ],
  "metadata": {
    "colab": {
      "collapsed_sections": [
        "HtPMG-lu4gwB",
        "835efe93",
        "oOYmHaEM42tJ",
        "h7-idsRG499d",
        "DS0ZB4AI5BAZ"
      ],
      "provenance": []
    },
    "kernelspec": {
      "display_name": "Python 3 (ipykernel)",
      "language": "python",
      "name": "python3"
    },
    "language_info": {
      "codemirror_mode": {
        "name": "ipython",
        "version": 3
      },
      "file_extension": ".py",
      "mimetype": "text/x-python",
      "name": "python",
      "nbconvert_exporter": "python",
      "pygments_lexer": "ipython3",
      "version": "3.10.6"
    }
  },
  "nbformat": 4,
  "nbformat_minor": 5
}